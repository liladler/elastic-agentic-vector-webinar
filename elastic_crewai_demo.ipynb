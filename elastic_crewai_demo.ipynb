{
  "cells": [
    {
      "cell_type": "markdown",
      "metadata": {
        "vscode": {
          "languageId": "raw"
        }
      },
      "source": [
        "# 🚀 Agentic Search Powered by Elastic's Vector Database\n",
        "\n",
        "## Demo: Intelligent Search Agent for Technical Documentation\n",
        "\n",
        "This notebook demonstrates the architecture presented in the **\"Agentic Search with Elastic Vector Database\"** webinar by building a working system that:\n",
        "\n",
        "1. **Ingests** technical documentation (the webinar slides themselves!) using ColPali for visual embeddings\n",
        "2. **Creates** an intelligent search agent with specialized tools\n",
        "3. **Demonstrates** how agents can answer complex questions by combining:\n",
        "   - Text search (BM25 + Vector/Semantic search)\n",
        "   - Image analysis (ColPali + Visual LLM)\n",
        "   - Metadata filtering\n",
        "\n",
        "### The Challenge\n",
        "*\"As a developer, you are asked to create a new search for a repository of technical documents. How would you do this?\"* \n",
        "\n",
        "### The Solution\n",
        "Build an agentic search system using:\n",
        "- **Elasticsearch** as the vector database and knowledge base\n",
        "- **semantic_text** fields for automatic embedding generation\n",
        "- **ColPali** for multi-vector image understanding\n",
        "- **CrewAI** for agent orchestration\n",
        "\n",
        "Let's build it! 🎯\n",
        "\n",
        "# Setup\n",
        "\n",
        "## 📦 Step 1: Install Dependencies\n"
      ]
    },
    {
      "cell_type": "code",
      "execution_count": 1,
      "metadata": {},
      "outputs": [
        {
          "name": "stdout",
          "output_type": "stream",
          "text": [
            "\n",
            "\u001b[1m[\u001b[0m\u001b[34;49mnotice\u001b[0m\u001b[1;39;49m]\u001b[0m\u001b[39;49m A new release of pip is available: \u001b[0m\u001b[31;49m24.2\u001b[0m\u001b[39;49m -> \u001b[0m\u001b[32;49m25.2\u001b[0m\n",
            "\u001b[1m[\u001b[0m\u001b[34;49mnotice\u001b[0m\u001b[1;39;49m]\u001b[0m\u001b[39;49m To update, run: \u001b[0m\u001b[32;49mpython3.11 -m pip install --upgrade pip\u001b[0m\n",
            "Note: you may need to restart the kernel to use updated packages.\n",
            "\n",
            "\u001b[1m[\u001b[0m\u001b[34;49mnotice\u001b[0m\u001b[1;39;49m]\u001b[0m\u001b[39;49m A new release of pip is available: \u001b[0m\u001b[31;49m24.2\u001b[0m\u001b[39;49m -> \u001b[0m\u001b[32;49m25.2\u001b[0m\n",
            "\u001b[1m[\u001b[0m\u001b[34;49mnotice\u001b[0m\u001b[1;39;49m]\u001b[0m\u001b[39;49m To update, run: \u001b[0m\u001b[32;49mpython3.11 -m pip install --upgrade pip\u001b[0m\n",
            "Note: you may need to restart the kernel to use updated packages.\n",
            "\n",
            "\u001b[1m[\u001b[0m\u001b[34;49mnotice\u001b[0m\u001b[1;39;49m]\u001b[0m\u001b[39;49m A new release of pip is available: \u001b[0m\u001b[31;49m24.2\u001b[0m\u001b[39;49m -> \u001b[0m\u001b[32;49m25.2\u001b[0m\n",
            "\u001b[1m[\u001b[0m\u001b[34;49mnotice\u001b[0m\u001b[1;39;49m]\u001b[0m\u001b[39;49m To update, run: \u001b[0m\u001b[32;49mpython3.11 -m pip install --upgrade pip\u001b[0m\n",
            "Note: you may need to restart the kernel to use updated packages.\n",
            "zsh:1: 0.3.0, not found\n",
            "Note: you may need to restart the kernel to use updated packages.\n",
            "\n",
            "\u001b[1m[\u001b[0m\u001b[34;49mnotice\u001b[0m\u001b[1;39;49m]\u001b[0m\u001b[39;49m A new release of pip is available: \u001b[0m\u001b[31;49m24.2\u001b[0m\u001b[39;49m -> \u001b[0m\u001b[32;49m25.2\u001b[0m\n",
            "\u001b[1m[\u001b[0m\u001b[34;49mnotice\u001b[0m\u001b[1;39;49m]\u001b[0m\u001b[39;49m To update, run: \u001b[0m\u001b[32;49mpython3.11 -m pip install --upgrade pip\u001b[0m\n",
            "Note: you may need to restart the kernel to use updated packages.\n",
            "✅ All packages installed!\n"
          ]
        }
      ],
      "source": [
        "# First ensure numpy is upgraded to avoid binary incompatibility\n",
        "%pip install --upgrade 'numpy>=1.26.0,<2.0.0' -q\n",
        "\n",
        "# Then install everything else\n",
        "# Install with compatible versions for ColPali\n",
        "%pip install -q 'numpy>=1.26.0,<2.0.0'\n",
        "%pip install -q 'transformers>=4.46.1,<4.47.0' 'torch>=2.7.0,<2.8.0' torchvision\n",
        "%pip install colpali-engine>=0.3.0,<0.4.0\n",
        "%pip install -q elasticsearch crewai crewai-tools langchain python-dotenv pillow requests PyMuPDF\n",
        "print(\"✅ All packages installed!\")\n"
      ]
    },
    {
      "cell_type": "markdown",
      "metadata": {
        "vscode": {
          "languageId": "raw"
        }
      },
      "source": [
        "## 🔧 Step 2: Import Libraries and Setup\n"
      ]
    },
    {
      "cell_type": "code",
      "execution_count": 2,
      "metadata": {},
      "outputs": [
        {
          "name": "stderr",
          "output_type": "stream",
          "text": [
            "/opt/homebrew/lib/python3.11/site-packages/tqdm/auto.py:21: TqdmWarning: IProgress not found. Please update jupyter and ipywidgets. See https://ipywidgets.readthedocs.io/en/stable/user_install.html\n",
            "  from .autonotebook import tqdm as notebook_tqdm\n"
          ]
        },
        {
          "name": "stdout",
          "output_type": "stream",
          "text": [
            "✓ All libraries imported successfully!\n"
          ]
        }
      ],
      "source": [
        "import os\n",
        "from elasticsearch import Elasticsearch\n",
        "from crewai import Agent, Task, Crew, Process\n",
        "from crewai.tools import BaseTool\n",
        "from typing import Type, List, Dict, Any\n",
        "from pydantic import BaseModel, Field\n",
        "import json\n",
        "from PIL import Image\n",
        "import requests\n",
        "from io import BytesIO\n",
        "import torch\n",
        "import numpy as np\n",
        "from colpali_engine.models import ColPali, ColPaliProcessor\n",
        "import fitz  # PyMuPDF\n",
        "from pathlib import Path\n",
        "from datetime import datetime\n",
        "\n",
        "# For environment variables\n",
        "from dotenv import load_dotenv\n",
        "load_dotenv()\n",
        "\n",
        "print(\"✓ All libraries imported successfully!\")"
      ]
    },
    {
      "cell_type": "markdown",
      "metadata": {
        "vscode": {
          "languageId": "raw"
        }
      },
      "source": [
        "## ⚡ Step 3: Connect to Elasticsearch Serverless\n",
        "\n",
        "**Elasticsearch as Knowledge Base**\n",
        "\n",
        "The presentation shows Elasticsearch as the central knowledge base that agents use for:\n",
        "- Storing documents with `semantic_text` fields\n",
        "- Vector embeddings for similarity search  \n",
        "- Metadata for filtering and personalization\n",
        "- Hybrid search (BM25 + Vector)\n"
      ]
    },
    {
      "cell_type": "code",
      "execution_count": 3,
      "metadata": {},
      "outputs": [
        {
          "name": "stdout",
          "output_type": "stream",
          "text": [
            "✓ Connected to Elasticsearch successfully!\n",
            "  Cluster: cb769ac92f2c4811b5d8b9e04983316b\n",
            "  Version: 8.11.0\n"
          ]
        }
      ],
      "source": [
        "# Elasticsearch Configuration\n",
        "ELASTIC_URL = os.getenv(\"ELASTIC_URL\", \"https://your-elasticsearch-url.es.us-central1.gcp.cloud.es.io:443\")\n",
        "ELASTIC_API_KEY = os.getenv(\"ELASTIC_API_KEY\", \"your-api-key\")\n",
        "OPENAI_BASE_URL = os.getenv(\"OPENAI_BASE_URL\", \"https://api.openai.com\")\n",
        "OPENAI_MODEL_NAME = os.getenv(\"OPENAI_MODEL_NAME\", \"gpt-4.1\")\n",
        "\n",
        "INDEX_NAME = \"technical_docs_webinar\"\n",
        "\n",
        "# Initialize Elasticsearch client\n",
        "es_client = Elasticsearch(\n",
        "    ELASTIC_URL,\n",
        "    api_key=ELASTIC_API_KEY,\n",
        "    verify_certs=True\n",
        ")\n",
        "\n",
        "# Test connection\n",
        "try:\n",
        "    if es_client.ping():\n",
        "        print(\"✓ Connected to Elasticsearch successfully!\")\n",
        "        info = es_client.info()\n",
        "        print(f\"  Cluster: {info['cluster_name']}\")\n",
        "        print(f\"  Version: {info['version']['number']}\")\n",
        "    else:\n",
        "        print(\"✗ Failed to connect to Elasticsearch\")\n",
        "except Exception as e:\n",
        "    print(f\"✗ Connection error: {e}\")\n",
        "    print(\"  💡 Make sure your .env file has ELASTIC_URL and ELASTIC_API_KEY set\")\n"
      ]
    },
    {
      "cell_type": "markdown",
      "metadata": {
        "vscode": {
          "languageId": "raw"
        }
      },
      "source": [
        "## 🗂️ Step 4: Create Index with semantic_text and ColPali Mapping\n",
        "\n",
        "As shown in the webinar (Slide 15), we use:\n",
        "- **`semantic_text`** fields for automatic embedding generation\n",
        "- **`rank_vectors`** for ColPali's multi-vector late interaction (with bit quantization)\n",
        "- **`dense_vector`** (avg_vector) for quick similarity checks\n",
        "- **Metadata** for geo-tagging, filtering, and personalization (Slide 18)\n"
      ]
    },
    {
      "cell_type": "code",
      "execution_count": null,
      "metadata": {},
      "outputs": [],
      "source": [
        "# Index mapping optimized for agentic search\n",
        "index_mapping = {\n",
        "    \"mappings\": {\n",
        "        \"properties\": {\n",
        "            \"title\": {\n",
        "                \"type\": \"text\",\n",
        "                \"fields\": {\"keyword\": {\"type\": \"keyword\"}}\n",
        "            },\n",
        "            \"content\": {\n",
        "                \"type\": \"semantic_text\",\n",
        "                \"inference_id\": \".elser-2-elastic\"\n",
        "            },\n",
        "            \"slide_text\": {\n",
        "                \"type\": \"text\"\n",
        "            },\n",
        "            \"image_path\": {\n",
        "                \"type\": \"keyword\"\n",
        "            },\n",
        "            # ColPali multi-vector embeddings using rank_vectors (late interaction)\n",
        "            \"col_pali_vectors\": {\n",
        "                \"type\": \"rank_vectors\"\n",
        "            },\n",
        "            # Average vector for quick similarity checks\n",
        "            \"avg_vector\": {\n",
        "                \"type\": \"dense_vector\",\n",
        "                \"dims\": 128,\n",
        "                \"index\": True,\n",
        "                \"similarity\": \"dot_product\"\n",
        "            },\n",
        "            \"metadata\": {\n",
        "                \"properties\": {\n",
        "                    \"source\": {\"type\": \"keyword\"},\n",
        "                    \"page_number\": {\"type\": \"integer\"},\n",
        "                    \"timestamp\": {\"type\": \"date\"},\n",
        "                    \"tags\": {\"type\": \"keyword\"},\n",
        "                    # For geo-based personalization (Slide 18)\n",
        "                    \"location\": {\"type\": \"geo_point\"}\n",
        "                }\n",
        "            }\n",
        "        }\n",
        "    }\n",
        "}\n",
        "\n",
        "# Delete index if exists (for demo purposes)\n",
        "try:\n",
        "    if es_client.indices.exists(index=INDEX_NAME):\n",
        "        es_client.indices.delete(index=INDEX_NAME)\n",
        "        print(f\"✓ Deleted existing index: {INDEX_NAME}\")\n",
        "except:\n",
        "    pass\n",
        "\n",
        "# Create the index\n",
        "try:\n",
        "    es_client.indices.create(index=INDEX_NAME, body=index_mapping)\n",
        "    print(f\"✓ Created index: {INDEX_NAME}\")\n",
        "    print(\"  - semantic_text field for automatic embeddings\")\n",
        "    print(\"  - rank_vectors field for ColPali late interaction\")\n",
        "    print(\"  - avg_vector field for quick similarity checks\")\n",
        "    print(\"  - metadata for filtering and personalization\")\n",
        "except Exception as e:\n",
        "    print(f\"✗ Error creating index: {e}\")\n",
        "    print(\"  💡 If semantic_text fails, update the inference_id or change to 'text' type\")\n"
      ]
    },
    {
      "cell_type": "markdown",
      "metadata": {
        "vscode": {
          "languageId": "raw"
        }
      },
      "source": [
        "## 🖼️ Step 5: Initialize ColPali for Image Understanding\n",
        "\n",
        "**ColPali - Late Interaction Multi-Vector Approach (Slides 16-17)**\n",
        "\n",
        "Following the Elastic blog post: https://www.elastic.co/search-labs/blog/late-interaction-model-colpali-scale\n",
        "\n",
        "The webinar explains two approaches to image search:\n",
        "1. **Single Vector + Agent**: Caption the image, then embed\n",
        "2. **ColPali Multi-Vector**: Generate multiple vectors capturing different aspects of the image\n",
        "\n",
        "We're using **ColPali with late interaction** for richer visual understanding of diagrams, charts, and technical content!\n",
        "\n",
        "**Implementation Details:**\n",
        "- **rank_vectors field**: Stores multi-vector embeddings efficiently using bit quantization\n",
        "- **avg_vector field**: Dense vector for quick similarity checks\n",
        "- **maxSimDotProduct**: Late interaction scoring function for high-quality retrieval\n",
        "\n",
        "**Performance Note:** On M3 MacBook, ColPali uses Metal Performance Shaders (MPS) for hardware acceleration. Processing 34 slides takes ~2-3 minutes.\n"
      ]
    },
    {
      "cell_type": "code",
      "execution_count": 4,
      "metadata": {},
      "outputs": [
        {
          "name": "stdout",
          "output_type": "stream",
          "text": [
            "Loading ColPali model...\n",
            "(First time: downloads ~1GB, takes 2-5 min)\n"
          ]
        },
        {
          "name": "stderr",
          "output_type": "stream",
          "text": [
            "`config.hidden_act` is ignored, you should use `config.hidden_activation` instead.\n",
            "Gemma's activation function will be set to `gelu_pytorch_tanh`. Please, use\n",
            "`config.hidden_activation` if you want to override this behaviour.\n",
            "See https://github.com/huggingface/transformers/pull/29402 for more details.\n",
            "Loading checkpoint shards: 100%|██████████| 2/2 [00:02<00:00,  1.25s/it]\n"
          ]
        },
        {
          "name": "stdout",
          "output_type": "stream",
          "text": [
            "✓ ColPali ready!\n"
          ]
        }
      ],
      "source": [
        "# 🔧 ColPali setup\n",
        "print(\"Loading ColPali model...\")\n",
        "print(\"(First time: downloads ~1GB, takes 2-5 min)\")\n",
        "\n",
        "model_name = \"vidore/colpali-v1.2\"\n",
        "colpali_model = ColPali.from_pretrained(model_name)\n",
        "colpali_processor = ColPaliProcessor.from_pretrained(model_name)\n",
        "\n",
        "print(\"✓ ColPali ready!\")\n",
        "\n",
        "# Function to process images with ColPali\n",
        "def process_image_with_colpali(image):\n",
        "    \"\"\"Get embeddings from an image using ColPali\n",
        "    Returns both multi-vectors for late interaction and average vector\n",
        "    \n",
        "    Following the colpali-engine documentation:\n",
        "    https://github.com/illuin-tech/colpali\n",
        "    \"\"\"\n",
        "    try:\n",
        "        if isinstance(image, str):\n",
        "            image = Image.open(image)\n",
        "        \n",
        "        # Use the processor's process_images helper method\n",
        "        batch_images = colpali_processor.process_images([image]).to(colpali_model.device)\n",
        "        \n",
        "        with torch.no_grad():\n",
        "            # ColPali model returns embeddings directly as a tensor\n",
        "            image_embeddings = colpali_model(**batch_images)\n",
        "            \n",
        "            # image_embeddings shape: (batch_size, num_patches, embedding_dim)\n",
        "            # Get the first (and only) image's embeddings\n",
        "            multi_vectors = image_embeddings[0].cpu().numpy()\n",
        "            \n",
        "            # Get average vector for quick similarity\n",
        "            avg_vector = multi_vectors.mean(axis=0)\n",
        "            \n",
        "            # Normalize avg_vector to unit length (required for dot_product similarity)\n",
        "            avg_vector_norm = np.linalg.norm(avg_vector)\n",
        "            if avg_vector_norm > 0:\n",
        "                avg_vector = avg_vector / avg_vector_norm\n",
        "        \n",
        "        return {\n",
        "            \"multi_vectors\": multi_vectors.tolist(),\n",
        "            \"avg_vector\": avg_vector.tolist(),\n",
        "            \"success\": True\n",
        "        }\n",
        "    except Exception as e:\n",
        "        return {\"multi_vectors\": None, \"avg_vector\": None, \"success\": False, \"error\": str(e)}\n",
        "\n",
        "# Function to process text queries with ColPali\n",
        "def create_col_pali_query_vectors(query):\n",
        "    \"\"\"Generate ColPali vectors for a text query\n",
        "    \n",
        "    Returns both multi-vectors (for ColPali late interaction rescoring) and \n",
        "    normalized avg_vector (for initial kNN retrieval in RRF)\n",
        "    \n",
        "    For late interaction retrieval, we encode the text query which will be\n",
        "    matched against the multi-vector image embeddings using maxSimDotProduct\n",
        "    \n",
        "    Following the colpali-engine documentation:\n",
        "    https://github.com/illuin-tech/colpali\n",
        "    \"\"\"\n",
        "    try:\n",
        "        # Use the processor's process_queries helper method\n",
        "        batch_queries = colpali_processor.process_queries([query]).to(colpali_model.device)\n",
        "        \n",
        "        with torch.no_grad():\n",
        "            # ColPali model returns embeddings directly as a tensor\n",
        "            query_embeddings = colpali_model(**batch_queries)\n",
        "            \n",
        "            # query_embeddings shape: (batch_size, num_tokens, embedding_dim)\n",
        "            # Get the first (and only) query's embeddings\n",
        "            multi_vectors = query_embeddings[0].cpu().numpy()\n",
        "            \n",
        "            # Calculate normalized average vector for kNN retrieval\n",
        "            avg_vector = multi_vectors.mean(axis=0)\n",
        "            avg_vector_norm = np.linalg.norm(avg_vector)\n",
        "            if avg_vector_norm > 0:\n",
        "                avg_vector = avg_vector / avg_vector_norm\n",
        "        \n",
        "        return {\n",
        "            \"multi_vectors\": multi_vectors.tolist(),\n",
        "            \"avg_vector\": avg_vector.tolist()\n",
        "        }\n",
        "    except Exception as e:\n",
        "        print(f\"Error generating query vectors: {e}\")\n",
        "        return None\n"
      ]
    },
    {
      "cell_type": "markdown",
      "metadata": {
        "vscode": {
          "languageId": "raw"
        }
      },
      "source": [
        "## 📚 Step 6: Extract Slides from the Webinar PDF\n",
        "\n",
        "**Data Ingestion Pipeline (Slide 13)**\n",
        "\n",
        "The webinar shows the ingestion process:\n",
        "1. **Document** → Text + Diagrams + Metadata\n",
        "2. **Chunking** → Semantic chunking of content\n",
        "3. **Caption/ColPali** → Visual embeddings\n",
        "4. **Enrichment** → Add metadata\n",
        "\n",
        "We'll extract all 35 slides from `vector_webinar.pdf` as our technical documentation!\n"
      ]
    },
    {
      "cell_type": "code",
      "execution_count": null,
      "metadata": {},
      "outputs": [],
      "source": [
        "class PDFSlideExtractor:\n",
        "    \"\"\"Extract slides from PDF as images and text\"\"\"\n",
        "    \n",
        "    def __init__(self, pdf_path: str, output_dir: str = \"slides_output\"):\n",
        "        self.pdf_path = pdf_path\n",
        "        self.output_dir = Path(output_dir)\n",
        "        self.output_dir.mkdir(exist_ok=True)\n",
        "        self.doc = fitz.open(pdf_path)\n",
        "        print(f\"✓ Loaded PDF: {Path(pdf_path).name}\")\n",
        "        print(f\"  Total pages: {len(self.doc)}\")\n",
        "    \n",
        "    def extract_slide(self, page_num: int) -> Dict[str, Any]:\n",
        "        \"\"\"Extract a single slide as image and text\"\"\"\n",
        "        page = self.doc[page_num]\n",
        "        \n",
        "        # Extract text\n",
        "        text = page.get_text().strip()\n",
        "        \n",
        "        # Render page as high-quality image\n",
        "        zoom = 2.0  # 2x zoom for better quality\n",
        "        mat = fitz.Matrix(zoom, zoom)\n",
        "        pix = page.get_pixmap(matrix=mat)\n",
        "        \n",
        "        # Save image\n",
        "        image_filename = f\"slide_{page_num + 1:03d}.png\"\n",
        "        image_path = self.output_dir / image_filename\n",
        "        pix.save(str(image_path))\n",
        "        \n",
        "        # Convert to PIL Image\n",
        "        img = Image.frombytes(\"RGB\", [pix.width, pix.height], pix.samples)\n",
        "        \n",
        "        return {\n",
        "            \"page_number\": page_num + 1,\n",
        "            \"text\": text,\n",
        "            \"image_path\": str(image_path),\n",
        "            \"image\": img,\n",
        "            \"width\": pix.width,\n",
        "            \"height\": pix.height\n",
        "        }\n",
        "    \n",
        "    def extract_all_slides(self) -> List[Dict[str, Any]]:\n",
        "        \"\"\"Extract all slides from the PDF\"\"\"\n",
        "        slides = []\n",
        "        print(f\"\\n⏳ Extracting slides to {self.output_dir}/\")\n",
        "        \n",
        "        for page_num in range(len(self.doc)):\n",
        "            slide_data = self.extract_slide(page_num)\n",
        "            slides.append(slide_data)\n",
        "            \n",
        "            # Show progress\n",
        "            if (page_num + 1) % 10 == 0:\n",
        "                print(f\"  ✓ Extracted {page_num + 1}/{len(self.doc)} slides...\")\n",
        "        \n",
        "        print(f\"✓ Extracted all {len(slides)} slides!\\n\")\n",
        "        return slides\n",
        "    \n",
        "    def close(self):\n",
        "        self.doc.close()\n",
        "\n",
        "# Extract slides from the webinar PDF\n",
        "pdf_path = \"./vector_webinar.pdf\"\n",
        "extractor = PDFSlideExtractor(pdf_path)\n",
        "extracted_slides = extractor.extract_all_slides()\n",
        "extractor.close()\n",
        "\n",
        "# Show sample\n",
        "print(\"=\"*80)\n",
        "print(\"📄 Sample Slide Data:\")\n",
        "print(\"=\"*80)\n",
        "print(f\"Slide 1 Title: {extracted_slides[0]['text'].split(chr(10))[0]}\")\n",
        "print(f\"Image Path: {extracted_slides[0]['image_path']}\")\n",
        "print(f\"Dimensions: {extracted_slides[0]['width']}x{extracted_slides[0]['height']}\")\n"
      ]
    },
    {
      "cell_type": "markdown",
      "metadata": {
        "vscode": {
          "languageId": "raw"
        }
      },
      "source": [
        "## 🔄 Step 7: Process and Ingest Slides into Elasticsearch\n",
        "\n",
        "Now we'll process each slide with ColPali and index into Elasticsearch with:\n",
        "- Text content from the slides\n",
        "- Visual embeddings from ColPali\n",
        "- Metadata (page number, source, timestamp)\n"
      ]
    },
    {
      "cell_type": "code",
      "execution_count": null,
      "metadata": {},
      "outputs": [],
      "source": [
        "def ingest_slide(slide_data: Dict[str, Any], source_name: str = \"agentic_search_webinar\") -> str:\n",
        "    \"\"\"Ingest a slide into Elasticsearch with ColPali embeddings\"\"\"\n",
        "    \n",
        "    page_num = slide_data['page_number']\n",
        "    text = slide_data['text']\n",
        "    image_path = slide_data['image_path']\n",
        "    \n",
        "    # Extract title from first line\n",
        "    lines = [l.strip() for l in text.split('\\n') if l.strip()]\n",
        "    title = lines[0][:150] if lines else f\"Slide {page_num}\"\n",
        "    \n",
        "    # Process image with ColPali\n",
        "    image_result = process_image_with_colpali(slide_data['image'])\n",
        "    \n",
        "    document = {\n",
        "        \"title\": title,\n",
        "        \"content\": text,\n",
        "        \"slide_text\": text,\n",
        "        \"image_path\": image_path,\n",
        "        \"metadata\": {\n",
        "            \"source\": source_name,\n",
        "            \"page_number\": page_num,\n",
        "            \"width\": slide_data['width'],\n",
        "            \"height\": slide_data['height'],\n",
        "            \"timestamp\": datetime.now().isoformat(),\n",
        "            \"tags\": [\"webinar\", \"vector-search\", \"elastic\", \"agents\"]\n",
        "        }\n",
        "    }\n",
        "    \n",
        "    # Add ColPali embeddings if successful\n",
        "    if image_result[\"success\"]:\n",
        "        document[\"col_pali_vectors\"] = image_result[\"multi_vectors\"]\n",
        "        document[\"avg_vector\"] = image_result[\"avg_vector\"]\n",
        "    \n",
        "    # Index document\n",
        "    response = es_client.index(index=INDEX_NAME, document=document)\n",
        "    return response['_id']\n",
        "\n",
        "# Ingest all slides with progress tracking\n",
        "print(f\"⏳ Ingesting {len(extracted_slides)} slides into Elasticsearch...\")\n",
        "\n",
        "ingested_ids = []\n",
        "for i, slide_data in enumerate(extracted_slides, 1):\n",
        "    doc_id = ingest_slide(slide_data)\n",
        "    ingested_ids.append(doc_id)\n",
        "    \n",
        "    # Progress updates\n",
        "    if i % 10 == 0:\n",
        "        print(f\"  ✓ Ingested {i}/{len(extracted_slides)} slides...\")\n",
        "\n",
        "print(f\"\\n{'='*80}\")\n",
        "print(f\"✅ Successfully ingested all {len(ingested_ids)} slides!\")\n",
        "print(f\"{'='*80}\\n\")\n",
        "\n",
        "# Verify\n",
        "count_result = es_client.count(index=INDEX_NAME)\n"
      ]
    },
    {
      "cell_type": "markdown",
      "metadata": {},
      "source": [
        "> **_NOTE:_** Data is ingested and you're able to presesnt the Demo App. Next steps are code samples and similar to the implemantation of the Demo app. "
      ]
    },
    {
      "cell_type": "markdown",
      "metadata": {},
      "source": [
        "> **_NOTE:_** We recommend to go through the notebook to undersrand the logic, but run the test quersions through the app. "
      ]
    },
    {
      "cell_type": "markdown",
      "metadata": {
        "vscode": {
          "languageId": "raw"
        }
      },
      "source": [
        "# Agentic Workflow with Crew AI\n",
        "\n",
        "\n",
        "<div style=\"background-color: #fff3cd; padding: 10px; border: 2px solid #f5c6cb; border-radius: 5px; color: #721c24;\">\n",
        "⚠️ <strong>PLEASE MAKE SURE TO RUN SETUP STEP 5 TO INITIALISE COLPALI</strong>\n",
        "</div>\n",
        "\n",
        "## 🔧 Step 1: Create Search Tool\n",
        "\n",
        "**Search Tool (Slide 24)** \n",
        "\n",
        "\"Specializes in information retrieval, query processing and content discovery\"\n",
        "\n",
        "The Search Tool uses **Hybrid Search** (Slide 23) combining:\n",
        "- **BM25** (keyword/lexical search)\n",
        "- **Vector Search** (semantic similarity)\n",
        "- **RRF** (Reciprocal Rank Fusion) for combining results\n"
      ]
    },
    {
      "cell_type": "code",
      "execution_count": 5,
      "metadata": {},
      "outputs": [
        {
          "name": "stdout",
          "output_type": "stream",
          "text": [
            "✓ Search Tool initialized (RRF hybrid search + ColPali late interaction rescoring)\n"
          ]
        }
      ],
      "source": [
        "class SearchToolInput(BaseModel):\n",
        "    \"\"\"Input schema for SearchTool\"\"\"\n",
        "    query: str = Field(..., description=\"The search query to find relevant information in the knowledge base\")\n",
        "\n",
        "class SearchTool(BaseTool):\n",
        "    name: str = \"search_tool\"\n",
        "    description: str = (\n",
        "        \"Specializes in information retrieval, query processing and content discovery. \"\n",
        "        \"Searches the Elasticsearch knowledge base using hybrid search (BM25 + Vector). \"\n",
        "        \"Returns chunks with text content and image URLs for further analysis.\"\n",
        "    )\n",
        "    args_schema: Type[BaseModel] = SearchToolInput\n",
        "    \n",
        "    def _run(self, query: str) -> str:\n",
        "        \"\"\"Execute hybrid search with RRF and ColPali late interaction rescoring\"\"\"\n",
        "        try:\n",
        "            # Generate ColPali query vectors (both multi-vectors and avg_vector)\n",
        "            query_vectors = create_col_pali_query_vectors(query)\n",
        "\n",
        "            search_body = {\n",
        "                \"_source\": [\"title\", \"content\", \"slide_text\", \"image_path\", \"metadata\"],\n",
        "                \"retriever\": {\n",
        "                    \"rescorer\": {\n",
        "                        \"retriever\": {\n",
        "                            \"rrf\": {\n",
        "                                \"retrievers\": [\n",
        "                                    {\n",
        "                                        \"standard\": {\n",
        "                                            \"query\": {\n",
        "                                                \"multi_match\": {\n",
        "                                                    \"query\": query,\n",
        "                                                    \"fields\": [\"title\", \"slide_text\"],\n",
        "                                                    \"type\": \"best_fields\"\n",
        "                                                }\n",
        "                                            }\n",
        "                                        }\n",
        "                                    },\n",
        "                                    {\n",
        "                                        \"standard\": {\n",
        "                                            \"query\": {\n",
        "                                                \"semantic\": {\n",
        "                                                    \"query\": query,\n",
        "                                                    \"field\": \"content\"\n",
        "                                                }\n",
        "                                            }\n",
        "                                        }\n",
        "                                    },\n",
        "                                    {\n",
        "                                        \"knn\": {\n",
        "                                            \"field\": \"avg_vector\",\n",
        "                                            \"query_vector\": query_vectors[\"avg_vector\"],\n",
        "                                            \"k\": 10,\n",
        "                                            \"num_candidates\": 100\n",
        "                                        }\n",
        "                                    }\n",
        "                                ],\n",
        "                                \"rank_window_size\": 50\n",
        "                            }\n",
        "                        },\n",
        "                        \"rescore\": {\n",
        "                            \"window_size\": 10,\n",
        "                            \"query\": {\n",
        "                                \"rescore_query\": {\n",
        "                                    \"script_score\": {\n",
        "                                        \"query\": {\"match_all\": {}},\n",
        "                                        \"script\": {\n",
        "                                            \"source\": \"maxSimDotProduct(params.query_vector, 'col_pali_vectors')\",\n",
        "                                            \"params\": {\"query_vector\": query_vectors[\"multi_vectors\"]}\n",
        "                                        }\n",
        "                                    }\n",
        "                                }\n",
        "                            }\n",
        "                        }\n",
        "                    }\n",
        "                },\n",
        "                \"size\": 3\n",
        "            }\n",
        "            \n",
        "            response = es_client.search(index=INDEX_NAME, body=search_body)\n",
        "            \n",
        "            # Format results\n",
        "            results = []\n",
        "            for hit in response['hits']['hits']:\n",
        "                source = hit['_source']\n",
        "                result = {\n",
        "                    \"title\": source.get('title', ''),\n",
        "                    \"content\": source.get('content', ''),\n",
        "                    \"image_path\": source.get('image_path', ''),\n",
        "                    \"page_number\": source.get('metadata', {}).get('page_number', ''),\n",
        "                    \"score\": hit['_score']\n",
        "                }\n",
        "                results.append(result)\n",
        "            \n",
        "            if not results:\n",
        "                return \"No results found for the given query.\"\n",
        "            \n",
        "            # Format output\n",
        "            output = f\"Found {len(results)} relevant slides:\\\\n\\\\n\"\n",
        "            for i, result in enumerate(results, 1):\n",
        "                output += f\"**Result {i} (Slide {result['page_number']}, Score: {result['score']:.2f})**\\\\n\"\n",
        "                output += f\"Title: {result['title']}\\\\n\"\n",
        "                output += f\"Content Preview: {result['content'][:300]}...\\\\n\"\n",
        "                output += f\"Image: {result['image_path']}\\\\n\"\n",
        "                output += \"-\" * 80 + \"\\\\n\"\n",
        "            \n",
        "            return output\n",
        "            \n",
        "        except Exception as e:\n",
        "            return f\"Error performing search: {str(e)}\"\n",
        "\n",
        "# Initialize Search Tool\n",
        "search_tool = SearchTool()\n",
        "print(\"✓ Search Tool initialized (RRF hybrid search + ColPali late interaction rescoring)\")\n"
      ]
    },
    {
      "cell_type": "markdown",
      "metadata": {
        "vscode": {
          "languageId": "raw"
        }
      },
      "source": [
        "## 🖼️ Step 2: Create Image Analysis Tool\n",
        "\n",
        "This tool returns image paths in Markdown format `![Image](path)`. CrewAI's Vision LLM integration \n",
        "should automatically detect and load these image references.\n",
        "\n",
        "**How it works:**\n",
        "1. SearchTool returns text + image paths ✅\n",
        "2. ImageAnalysisTool verifies the image exists and returns `![Image](path)` in Markdown ✅\n",
        "3. CrewAI passes this to the Vision LLM which loads the image from the path ✅\n",
        "4. Agent's Vision LLM sees the image and can answer questions about visual content ✅\n",
        "5. Agent synthesizes answer combining text search results + visual understanding ✅\n",
        "\n",
        "**Note:** This relies on CrewAI's built-in support for Markdown image syntax. If your Vision LLM \n",
        "\n",
        "(Slides 25-26 show example: \"What is the temperature of widget XYZ after 2 minutes?\")"
      ]
    },
    {
      "cell_type": "code",
      "execution_count": 6,
      "metadata": {},
      "outputs": [
        {
          "name": "stdout",
          "output_type": "stream",
          "text": [
            "✓ Image Analysis Tool initialized (Vision LLM)\n"
          ]
        }
      ],
      "source": [
        "class ImageAnalysisToolInput(BaseModel):\n",
        "    \"\"\"Input schema for ImageAnalysisTool\"\"\"\n",
        "    image_url: str = Field(..., description=\"The path or URL of the image to analyze\")\n",
        "    question: str = Field(..., description=\"The specific question about the image\")\n",
        "\n",
        "class ImageAnalysisTool(BaseTool):\n",
        "    name: str = \"image_analysis_tool\"\n",
        "    description: str = (\n",
        "        \"Loads slide images and returns their file paths for visual analysis. \"\n",
        "        \"Use this when you need to examine diagrams, charts, or visual elements in the slides.\"\n",
        "    )\n",
        "    args_schema: Type[BaseModel] = ImageAnalysisToolInput\n",
        "    \n",
        "    def _run(self, image_url: str, question: str) -> str:\n",
        "        \"\"\"Return image path for Vision LLM to load\"\"\"\n",
        "        try:\n",
        "            # Verify image exists\n",
        "            if not image_url.startswith('http'):\n",
        "                if not Path(image_url).exists():\n",
        "                    return f\"Error: Image not found at {image_url}\"\n",
        "            \n",
        "            # Return the path - let the LLM framework handle loading\n",
        "            return image_url\n",
        "            \n",
        "        except Exception as e:\n",
        "            return f\"Error: {str(e)}\"\n",
        "\n",
        "# Initialize Image Analysis Tool\n",
        "image_analysis_tool = ImageAnalysisTool()\n",
        "print(\"✓ Image Analysis Tool initialized (Vision LLM)\")\n"
      ]
    },
    {
      "cell_type": "markdown",
      "metadata": {
        "vscode": {
          "languageId": "raw"
        }
      },
      "source": [
        "## 🤖 Step 3: Create the Intelligent Search Agent\n",
        "\n",
        "**Agent Prompt (Slide 28)** - Using the exact prompt from the webinar!\n",
        "\n",
        "The agent orchestrates the workflow:\n",
        "1. **Initial Analysis**: Understand the user's question\n",
        "2. **Search Execution**: Use search_tool to query the knowledge base\n",
        "3. **Result Processing**: Examine search results for text and image URLs\n",
        "4. **Image Analysis**: If images found, use image_analysis_tool\n",
        "5. **Response Synthesis**: Combine all findings\n"
      ]
    },
    {
      "cell_type": "code",
      "execution_count": 7,
      "metadata": {},
      "outputs": [
        {
          "name": "stdout",
          "output_type": "stream",
          "text": [
            "✓ Intelligent Search Agent created\n",
            "  Model: gpt-4.1 via https://litellm-proxy-service-1059491012611.us-central1.run.app/v1\n",
            "  Tools: search_tool, image_analysis_tool\n",
            "  Workflow: Search → Analyze Images → Synthesize Response\n"
          ]
        }
      ],
      "source": [
        "# Create the Search Agent - using the exact prompt from Slide 28!\n",
        "from crewai import LLM\n",
        "\n",
        "# Configure LLM from environment variables (.env file)\n",
        "agent_llm = LLM(\n",
        "    model=OPENAI_MODEL_NAME,\n",
        "    base_url=OPENAI_BASE_URL,\n",
        "    api_key=os.getenv(\"OPENAI_API_KEY\")\n",
        ")\n",
        "\n",
        "search_agent =  Agent(\n",
        "        role=\"Intelligent Search Agent\",\n",
        "        goal=\"Process user questions by searching knowledge bases and analyzing slide images for visual insights\",\n",
        "        backstory=\"\"\"\n",
        "        You are an intelligent search agent that combines textual search with visual analysis. \n",
        "        You understand that slides often contain important diagrams, charts, and visual layouts \n",
        "        that provide crucial context beyond just the text.\n",
        "        \n",
        "        Your workflow:\n",
        "        1. Use search_tool to find relevant slides\n",
        "        2. Use image_analysis_tool on the top results to extract visual insights\n",
        "        3. Combine both text and visual information in your answer\n",
        "        \n",
        "        Visual analysis helps you understand diagrams, architecture, workflows, and data \n",
        "        visualizations that are critical to answering questions accurately.\n",
        "        \"\"\",\n",
        "        tools=[search_tool, image_analysis_tool],\n",
        "        llm=agent_llm,\n",
        "        verbose=True,\n",
        "        allow_delegation=False\n",
        ")\n",
        "\n",
        "print(\"✓ Intelligent Search Agent created\")\n",
        "print(f\"  Model: {OPENAI_MODEL_NAME} via {OPENAI_BASE_URL}\")\n",
        "print(\"  Tools: search_tool, image_analysis_tool\")\n",
        "print(\"  Workflow: Search → Analyze Images → Synthesize Response\")\n"
      ]
    },
    {
      "cell_type": "markdown",
      "metadata": {
        "vscode": {
          "languageId": "raw"
        }
      },
      "source": [
        "## 🎯 Step 4: Helper Function to Ask Questions\n",
        "\n",
        "Create a helper function that creates tasks and executes the agent workflow.\n"
      ]
    },
    {
      "cell_type": "code",
      "execution_count": 8,
      "metadata": {},
      "outputs": [
        {
          "name": "stdout",
          "output_type": "stream",
          "text": [
            "✓ Question-answering function ready!\n"
          ]
        }
      ],
      "source": [
        "def ask_agent(question: str):\n",
        "    \"\"\"Ask a question to the agent - simplified version\"\"\"\n",
        "    \n",
        "    search_task = Task(\n",
        "        description=f\"\"\"\n",
        "        Answer the following user question by searching the knowledge base:\n",
        "        \n",
        "        **Question:** {question}\n",
        "        \n",
        "        **Instructions:**\n",
        "        1. Use search_tool to find relevant slides\n",
        "        2. For the top 2-3 most relevant slides, use image_analysis_tool to load their images \n",
        "        3. Synthesize all information (text + visual analysis) into a clear, comprehensive answer\n",
        "        4. Start with your answer immediately - DO NOT dump raw slide content\n",
        "        5. Reference slide numbers inline (e.g., \"According to Slide 14...\")\n",
        "        6. Keep your answer focused and well-organized with bullet points or paragraphs\n",
        "        \n",
        "        **Special Instructions for Architecture/Diagram Questions:**\n",
        "        - ONLY create a Mermaid diagram if the user's question EXPLICITLY asks for:\n",
        "          * \"architecture\" or \"system architecture\"\n",
        "          * \"workflow\" or \"process flow\"\n",
        "          * \"system design\" or \"how the system works\"\n",
        "          * A \"diagram\" or \"visualization\" of a system/process\n",
        "        - If creating a diagram:\n",
        "          * Place the diagram FIRST, before your explanation\n",
        "          * Use this exact format:\n",
        "            ```mermaid\n",
        "            graph TD\n",
        "                A[Component] --> B[Another Component]\n",
        "            ```\n",
        "          * Then provide your textual explanation below the diagram\n",
        "        - For other questions (facts, definitions, specific values), just provide a text answer WITHOUT diagrams\n",
        "        \n",
        "        **Format:**\n",
        "        - Start with a direct answer to the question (and Mermaid diagram if applicable)\n",
        "        - Use inline citations like \"(Slide 14)\" or \"As shown in Slide 7...\"\n",
        "        - DO NOT copy-paste large blocks of raw slide text\n",
        "        - End with a brief \"References:\" line listing the slides used\n",
        "        \"\"\",\n",
        "        expected_output=\"A clear, synthesized answer combining text and visual insights, with inline slide references. Include Mermaid diagrams ONLY if the user explicitly asks for architecture, workflow, or system design visualization.\",\n",
        "        agent=search_agent\n",
        "    )\n",
        "    \n",
        "    crew = Crew(\n",
        "        agents=[search_agent],\n",
        "        tasks=[search_task],\n",
        "        process=Process.sequential,\n",
        "        multimodal=True,\n",
        "        verbose=True\n",
        "    )\n",
        "    \n",
        "    result = crew.kickoff()\n",
        "    return result\n",
        "\n",
        "\n",
        "print(\"✓ Question-answering function ready!\")\n"
      ]
    },
    {
      "cell_type": "markdown",
      "metadata": {
        "vscode": {
          "languageId": "raw"
        }
      },
      "source": [
        "## 🎬 Step 5: Demo - Ask Questions!\n",
        "\n",
        "Now let's ask questions about the webinar content using our agentic search system!\n",
        "\n",
        "These examples are based on topics covered in the presentation.\n"
      ]
    },
    {
      "cell_type": "markdown",
      "metadata": {
        "vscode": {
          "languageId": "raw"
        }
      },
      "source": [
        "### Example 1: Understanding Vector Search\n",
        "\n",
        "**Topic covered in Slide 14:** \"Why vectors?\"\n"
      ]
    },
    {
      "cell_type": "code",
      "execution_count": 9,
      "metadata": {},
      "outputs": [
        {
          "name": "stdout",
          "output_type": "stream",
          "text": [
            "\n",
            "====================================================================================================\n",
            "❓ QUESTION 1: How does ColPali work and why use it for image search?\n",
            "====================================================================================================\n",
            "\n"
          ]
        },
        {
          "data": {
            "text/html": [
              "<pre style=\"white-space:pre;overflow-x:auto;line-height:normal;font-family:Menlo,'DejaVu Sans Mono',consolas,'Courier New',monospace\"><span style=\"color: #008080; text-decoration-color: #008080\">╭──────────────────────────────────────────── Crew Execution Started ─────────────────────────────────────────────╮</span>\n",
              "<span style=\"color: #008080; text-decoration-color: #008080\">│</span>                                                                                                                 <span style=\"color: #008080; text-decoration-color: #008080\">│</span>\n",
              "<span style=\"color: #008080; text-decoration-color: #008080\">│</span>  <span style=\"color: #008080; text-decoration-color: #008080; font-weight: bold\">Crew Execution Started</span>                                                                                         <span style=\"color: #008080; text-decoration-color: #008080\">│</span>\n",
              "<span style=\"color: #008080; text-decoration-color: #008080\">│</span>  <span style=\"color: #c0c0c0; text-decoration-color: #c0c0c0\">Name: </span><span style=\"color: #008080; text-decoration-color: #008080\">crew</span>                                                                                                     <span style=\"color: #008080; text-decoration-color: #008080\">│</span>\n",
              "<span style=\"color: #008080; text-decoration-color: #008080\">│</span>  <span style=\"color: #c0c0c0; text-decoration-color: #c0c0c0\">ID: </span><span style=\"color: #008080; text-decoration-color: #008080\">e5724088-6a00-42e6-b11b-df397e1e1b7a</span>                                                                       <span style=\"color: #008080; text-decoration-color: #008080\">│</span>\n",
              "<span style=\"color: #008080; text-decoration-color: #008080\">│</span>  <span style=\"color: #c0c0c0; text-decoration-color: #c0c0c0\">Tool Args: </span>                                                                                                    <span style=\"color: #008080; text-decoration-color: #008080\">│</span>\n",
              "<span style=\"color: #008080; text-decoration-color: #008080\">│</span>                                                                                                                 <span style=\"color: #008080; text-decoration-color: #008080\">│</span>\n",
              "<span style=\"color: #008080; text-decoration-color: #008080\">│</span>                                                                                                                 <span style=\"color: #008080; text-decoration-color: #008080\">│</span>\n",
              "<span style=\"color: #008080; text-decoration-color: #008080\">╰─────────────────────────────────────────────────────────────────────────────────────────────────────────────────╯</span>\n",
              "</pre>\n"
            ],
            "text/plain": [
              "\u001b[36m╭─\u001b[0m\u001b[36m───────────────────────────────────────────\u001b[0m\u001b[36m Crew Execution Started \u001b[0m\u001b[36m────────────────────────────────────────────\u001b[0m\u001b[36m─╮\u001b[0m\n",
              "\u001b[36m│\u001b[0m                                                                                                                 \u001b[36m│\u001b[0m\n",
              "\u001b[36m│\u001b[0m  \u001b[1;36mCrew Execution Started\u001b[0m                                                                                         \u001b[36m│\u001b[0m\n",
              "\u001b[36m│\u001b[0m  \u001b[37mName: \u001b[0m\u001b[36mcrew\u001b[0m                                                                                                     \u001b[36m│\u001b[0m\n",
              "\u001b[36m│\u001b[0m  \u001b[37mID: \u001b[0m\u001b[36me5724088-6a00-42e6-b11b-df397e1e1b7a\u001b[0m                                                                       \u001b[36m│\u001b[0m\n",
              "\u001b[36m│\u001b[0m  \u001b[37mTool Args: \u001b[0m                                                                                                    \u001b[36m│\u001b[0m\n",
              "\u001b[36m│\u001b[0m                                                                                                                 \u001b[36m│\u001b[0m\n",
              "\u001b[36m│\u001b[0m                                                                                                                 \u001b[36m│\u001b[0m\n",
              "\u001b[36m╰─────────────────────────────────────────────────────────────────────────────────────────────────────────────────╯\u001b[0m\n"
            ]
          },
          "metadata": {},
          "output_type": "display_data"
        },
        {
          "data": {
            "text/html": [
              "<pre style=\"white-space:pre;overflow-x:auto;line-height:normal;font-family:Menlo,'DejaVu Sans Mono',consolas,'Courier New',monospace\">\n",
              "</pre>\n"
            ],
            "text/plain": [
              "\n"
            ]
          },
          "metadata": {},
          "output_type": "display_data"
        },
        {
          "data": {
            "text/html": [
              "<pre style=\"white-space:pre;overflow-x:auto;line-height:normal;font-family:Menlo,'DejaVu Sans Mono',consolas,'Courier New',monospace\"></pre>\n"
            ],
            "text/plain": []
          },
          "metadata": {},
          "output_type": "display_data"
        },
        {
          "data": {
            "text/html": [
              "<pre style=\"white-space:pre;overflow-x:auto;line-height:normal;font-family:Menlo,'DejaVu Sans Mono',consolas,'Courier New',monospace\"><span style=\"color: #800080; text-decoration-color: #800080\">╭─────────────────────────────────────────────── 🤖 Agent Started ────────────────────────────────────────────────╮</span>\n",
              "<span style=\"color: #800080; text-decoration-color: #800080\">│</span>                                                                                                                 <span style=\"color: #800080; text-decoration-color: #800080\">│</span>\n",
              "<span style=\"color: #800080; text-decoration-color: #800080\">│</span>  <span style=\"color: #c0c0c0; text-decoration-color: #c0c0c0\">Agent: </span><span style=\"color: #00ff00; text-decoration-color: #00ff00; font-weight: bold\">Intelligent Search Agent</span>                                                                                <span style=\"color: #800080; text-decoration-color: #800080\">│</span>\n",
              "<span style=\"color: #800080; text-decoration-color: #800080\">│</span>                                                                                                                 <span style=\"color: #800080; text-decoration-color: #800080\">│</span>\n",
              "<span style=\"color: #800080; text-decoration-color: #800080\">│</span>  <span style=\"color: #c0c0c0; text-decoration-color: #c0c0c0\">Task: </span>                                                                                                         <span style=\"color: #800080; text-decoration-color: #800080\">│</span>\n",
              "<span style=\"color: #800080; text-decoration-color: #800080\">│</span>  <span style=\"color: #00ff00; text-decoration-color: #00ff00\">        Answer the following user question by searching the knowledge base:</span>                                    <span style=\"color: #800080; text-decoration-color: #800080\">│</span>\n",
              "<span style=\"color: #800080; text-decoration-color: #800080\">│</span>  <span style=\"color: #00ff00; text-decoration-color: #00ff00\">        </span>                                                                                                       <span style=\"color: #800080; text-decoration-color: #800080\">│</span>\n",
              "<span style=\"color: #800080; text-decoration-color: #800080\">│</span>  <span style=\"color: #00ff00; text-decoration-color: #00ff00\">        **Question:** How does ColPali work and why use it for image search?</span>                                   <span style=\"color: #800080; text-decoration-color: #800080\">│</span>\n",
              "<span style=\"color: #800080; text-decoration-color: #800080\">│</span>  <span style=\"color: #00ff00; text-decoration-color: #00ff00\">        </span>                                                                                                       <span style=\"color: #800080; text-decoration-color: #800080\">│</span>\n",
              "<span style=\"color: #800080; text-decoration-color: #800080\">│</span>  <span style=\"color: #00ff00; text-decoration-color: #00ff00\">        **Instructions:**</span>                                                                                      <span style=\"color: #800080; text-decoration-color: #800080\">│</span>\n",
              "<span style=\"color: #800080; text-decoration-color: #800080\">│</span>  <span style=\"color: #00ff00; text-decoration-color: #00ff00\">        1. Use search_tool to find relevant slides</span>                                                             <span style=\"color: #800080; text-decoration-color: #800080\">│</span>\n",
              "<span style=\"color: #800080; text-decoration-color: #800080\">│</span>  <span style=\"color: #00ff00; text-decoration-color: #00ff00\">        2. For the top 2-3 most relevant slides, use image_analysis_tool to load their images </span>                 <span style=\"color: #800080; text-decoration-color: #800080\">│</span>\n",
              "<span style=\"color: #800080; text-decoration-color: #800080\">│</span>  <span style=\"color: #00ff00; text-decoration-color: #00ff00\">        3. Synthesize all information (text + visual analysis) into a clear, comprehensive answer</span>              <span style=\"color: #800080; text-decoration-color: #800080\">│</span>\n",
              "<span style=\"color: #800080; text-decoration-color: #800080\">│</span>  <span style=\"color: #00ff00; text-decoration-color: #00ff00\">        4. Start with your answer immediately - DO NOT dump raw slide content</span>                                  <span style=\"color: #800080; text-decoration-color: #800080\">│</span>\n",
              "<span style=\"color: #800080; text-decoration-color: #800080\">│</span>  <span style=\"color: #00ff00; text-decoration-color: #00ff00\">        5. Reference slide numbers inline (e.g., \"According to Slide 14...\")</span>                                   <span style=\"color: #800080; text-decoration-color: #800080\">│</span>\n",
              "<span style=\"color: #800080; text-decoration-color: #800080\">│</span>  <span style=\"color: #00ff00; text-decoration-color: #00ff00\">        6. Keep your answer focused and well-organized with bullet points or paragraphs</span>                        <span style=\"color: #800080; text-decoration-color: #800080\">│</span>\n",
              "<span style=\"color: #800080; text-decoration-color: #800080\">│</span>  <span style=\"color: #00ff00; text-decoration-color: #00ff00\">        </span>                                                                                                       <span style=\"color: #800080; text-decoration-color: #800080\">│</span>\n",
              "<span style=\"color: #800080; text-decoration-color: #800080\">│</span>  <span style=\"color: #00ff00; text-decoration-color: #00ff00\">        **Special Instructions for Architecture/Diagram Questions:**</span>                                           <span style=\"color: #800080; text-decoration-color: #800080\">│</span>\n",
              "<span style=\"color: #800080; text-decoration-color: #800080\">│</span>  <span style=\"color: #00ff00; text-decoration-color: #00ff00\">        - ONLY create a Mermaid diagram if the user's question EXPLICITLY asks for:</span>                            <span style=\"color: #800080; text-decoration-color: #800080\">│</span>\n",
              "<span style=\"color: #800080; text-decoration-color: #800080\">│</span>  <span style=\"color: #00ff00; text-decoration-color: #00ff00\">          * \"architecture\" or \"system architecture\"</span>                                                            <span style=\"color: #800080; text-decoration-color: #800080\">│</span>\n",
              "<span style=\"color: #800080; text-decoration-color: #800080\">│</span>  <span style=\"color: #00ff00; text-decoration-color: #00ff00\">          * \"workflow\" or \"process flow\"</span>                                                                       <span style=\"color: #800080; text-decoration-color: #800080\">│</span>\n",
              "<span style=\"color: #800080; text-decoration-color: #800080\">│</span>  <span style=\"color: #00ff00; text-decoration-color: #00ff00\">          * \"system design\" or \"how the system works\"</span>                                                          <span style=\"color: #800080; text-decoration-color: #800080\">│</span>\n",
              "<span style=\"color: #800080; text-decoration-color: #800080\">│</span>  <span style=\"color: #00ff00; text-decoration-color: #00ff00\">          * A \"diagram\" or \"visualization\" of a system/process</span>                                                 <span style=\"color: #800080; text-decoration-color: #800080\">│</span>\n",
              "<span style=\"color: #800080; text-decoration-color: #800080\">│</span>  <span style=\"color: #00ff00; text-decoration-color: #00ff00\">        - If creating a diagram:</span>                                                                               <span style=\"color: #800080; text-decoration-color: #800080\">│</span>\n",
              "<span style=\"color: #800080; text-decoration-color: #800080\">│</span>  <span style=\"color: #00ff00; text-decoration-color: #00ff00\">          * Place the diagram FIRST, before your explanation</span>                                                   <span style=\"color: #800080; text-decoration-color: #800080\">│</span>\n",
              "<span style=\"color: #800080; text-decoration-color: #800080\">│</span>  <span style=\"color: #00ff00; text-decoration-color: #00ff00\">          * Use this exact format:</span>                                                                             <span style=\"color: #800080; text-decoration-color: #800080\">│</span>\n",
              "<span style=\"color: #800080; text-decoration-color: #800080\">│</span>  <span style=\"color: #00ff00; text-decoration-color: #00ff00\">            ```mermaid</span>                                                                                         <span style=\"color: #800080; text-decoration-color: #800080\">│</span>\n",
              "<span style=\"color: #800080; text-decoration-color: #800080\">│</span>  <span style=\"color: #00ff00; text-decoration-color: #00ff00\">            graph TD</span>                                                                                           <span style=\"color: #800080; text-decoration-color: #800080\">│</span>\n",
              "<span style=\"color: #800080; text-decoration-color: #800080\">│</span>  <span style=\"color: #00ff00; text-decoration-color: #00ff00\">                A[Component] --&gt; B[Another Component]</span>                                                          <span style=\"color: #800080; text-decoration-color: #800080\">│</span>\n",
              "<span style=\"color: #800080; text-decoration-color: #800080\">│</span>  <span style=\"color: #00ff00; text-decoration-color: #00ff00\">            ```</span>                                                                                                <span style=\"color: #800080; text-decoration-color: #800080\">│</span>\n",
              "<span style=\"color: #800080; text-decoration-color: #800080\">│</span>  <span style=\"color: #00ff00; text-decoration-color: #00ff00\">          * Then provide your textual explanation below the diagram</span>                                            <span style=\"color: #800080; text-decoration-color: #800080\">│</span>\n",
              "<span style=\"color: #800080; text-decoration-color: #800080\">│</span>  <span style=\"color: #00ff00; text-decoration-color: #00ff00\">        - For other questions (facts, definitions, specific values), just provide a text answer WITHOUT </span>       <span style=\"color: #800080; text-decoration-color: #800080\">│</span>\n",
              "<span style=\"color: #800080; text-decoration-color: #800080\">│</span>  <span style=\"color: #00ff00; text-decoration-color: #00ff00\">diagrams</span>                                                                                                       <span style=\"color: #800080; text-decoration-color: #800080\">│</span>\n",
              "<span style=\"color: #800080; text-decoration-color: #800080\">│</span>  <span style=\"color: #00ff00; text-decoration-color: #00ff00\">        </span>                                                                                                       <span style=\"color: #800080; text-decoration-color: #800080\">│</span>\n",
              "<span style=\"color: #800080; text-decoration-color: #800080\">│</span>  <span style=\"color: #00ff00; text-decoration-color: #00ff00\">        **Format:**</span>                                                                                            <span style=\"color: #800080; text-decoration-color: #800080\">│</span>\n",
              "<span style=\"color: #800080; text-decoration-color: #800080\">│</span>  <span style=\"color: #00ff00; text-decoration-color: #00ff00\">        - Start with a direct answer to the question (and Mermaid diagram if applicable)</span>                       <span style=\"color: #800080; text-decoration-color: #800080\">│</span>\n",
              "<span style=\"color: #800080; text-decoration-color: #800080\">│</span>  <span style=\"color: #00ff00; text-decoration-color: #00ff00\">        - Use inline citations like \"(Slide 14)\" or \"As shown in Slide 7...\"</span>                                   <span style=\"color: #800080; text-decoration-color: #800080\">│</span>\n",
              "<span style=\"color: #800080; text-decoration-color: #800080\">│</span>  <span style=\"color: #00ff00; text-decoration-color: #00ff00\">        - DO NOT copy-paste large blocks of raw slide text</span>                                                     <span style=\"color: #800080; text-decoration-color: #800080\">│</span>\n",
              "<span style=\"color: #800080; text-decoration-color: #800080\">│</span>  <span style=\"color: #00ff00; text-decoration-color: #00ff00\">        - End with a brief \"References:\" line listing the slides used</span>                                          <span style=\"color: #800080; text-decoration-color: #800080\">│</span>\n",
              "<span style=\"color: #800080; text-decoration-color: #800080\">│</span>  <span style=\"color: #00ff00; text-decoration-color: #00ff00\">        </span>                                                                                                       <span style=\"color: #800080; text-decoration-color: #800080\">│</span>\n",
              "<span style=\"color: #800080; text-decoration-color: #800080\">│</span>                                                                                                                 <span style=\"color: #800080; text-decoration-color: #800080\">│</span>\n",
              "<span style=\"color: #800080; text-decoration-color: #800080\">╰─────────────────────────────────────────────────────────────────────────────────────────────────────────────────╯</span>\n",
              "</pre>\n"
            ],
            "text/plain": [
              "\u001b[35m╭─\u001b[0m\u001b[35m──────────────────────────────────────────────\u001b[0m\u001b[35m 🤖 Agent Started \u001b[0m\u001b[35m───────────────────────────────────────────────\u001b[0m\u001b[35m─╮\u001b[0m\n",
              "\u001b[35m│\u001b[0m                                                                                                                 \u001b[35m│\u001b[0m\n",
              "\u001b[35m│\u001b[0m  \u001b[37mAgent: \u001b[0m\u001b[1;92mIntelligent Search Agent\u001b[0m                                                                                \u001b[35m│\u001b[0m\n",
              "\u001b[35m│\u001b[0m                                                                                                                 \u001b[35m│\u001b[0m\n",
              "\u001b[35m│\u001b[0m  \u001b[37mTask: \u001b[0m                                                                                                         \u001b[35m│\u001b[0m\n",
              "\u001b[35m│\u001b[0m  \u001b[92m        Answer the following user question by searching the knowledge base:\u001b[0m                                    \u001b[35m│\u001b[0m\n",
              "\u001b[35m│\u001b[0m  \u001b[92m        \u001b[0m                                                                                                       \u001b[35m│\u001b[0m\n",
              "\u001b[35m│\u001b[0m  \u001b[92m        **Question:** How does ColPali work and why use it for image search?\u001b[0m                                   \u001b[35m│\u001b[0m\n",
              "\u001b[35m│\u001b[0m  \u001b[92m        \u001b[0m                                                                                                       \u001b[35m│\u001b[0m\n",
              "\u001b[35m│\u001b[0m  \u001b[92m        **Instructions:**\u001b[0m                                                                                      \u001b[35m│\u001b[0m\n",
              "\u001b[35m│\u001b[0m  \u001b[92m        1. Use search_tool to find relevant slides\u001b[0m                                                             \u001b[35m│\u001b[0m\n",
              "\u001b[35m│\u001b[0m  \u001b[92m        2. For the top 2-3 most relevant slides, use image_analysis_tool to load their images \u001b[0m                 \u001b[35m│\u001b[0m\n",
              "\u001b[35m│\u001b[0m  \u001b[92m        3. Synthesize all information (text + visual analysis) into a clear, comprehensive answer\u001b[0m              \u001b[35m│\u001b[0m\n",
              "\u001b[35m│\u001b[0m  \u001b[92m        4. Start with your answer immediately - DO NOT dump raw slide content\u001b[0m                                  \u001b[35m│\u001b[0m\n",
              "\u001b[35m│\u001b[0m  \u001b[92m        5. Reference slide numbers inline (e.g., \"According to Slide 14...\")\u001b[0m                                   \u001b[35m│\u001b[0m\n",
              "\u001b[35m│\u001b[0m  \u001b[92m        6. Keep your answer focused and well-organized with bullet points or paragraphs\u001b[0m                        \u001b[35m│\u001b[0m\n",
              "\u001b[35m│\u001b[0m  \u001b[92m        \u001b[0m                                                                                                       \u001b[35m│\u001b[0m\n",
              "\u001b[35m│\u001b[0m  \u001b[92m        **Special Instructions for Architecture/Diagram Questions:**\u001b[0m                                           \u001b[35m│\u001b[0m\n",
              "\u001b[35m│\u001b[0m  \u001b[92m        - ONLY create a Mermaid diagram if the user's question EXPLICITLY asks for:\u001b[0m                            \u001b[35m│\u001b[0m\n",
              "\u001b[35m│\u001b[0m  \u001b[92m          * \"architecture\" or \"system architecture\"\u001b[0m                                                            \u001b[35m│\u001b[0m\n",
              "\u001b[35m│\u001b[0m  \u001b[92m          * \"workflow\" or \"process flow\"\u001b[0m                                                                       \u001b[35m│\u001b[0m\n",
              "\u001b[35m│\u001b[0m  \u001b[92m          * \"system design\" or \"how the system works\"\u001b[0m                                                          \u001b[35m│\u001b[0m\n",
              "\u001b[35m│\u001b[0m  \u001b[92m          * A \"diagram\" or \"visualization\" of a system/process\u001b[0m                                                 \u001b[35m│\u001b[0m\n",
              "\u001b[35m│\u001b[0m  \u001b[92m        - If creating a diagram:\u001b[0m                                                                               \u001b[35m│\u001b[0m\n",
              "\u001b[35m│\u001b[0m  \u001b[92m          * Place the diagram FIRST, before your explanation\u001b[0m                                                   \u001b[35m│\u001b[0m\n",
              "\u001b[35m│\u001b[0m  \u001b[92m          * Use this exact format:\u001b[0m                                                                             \u001b[35m│\u001b[0m\n",
              "\u001b[35m│\u001b[0m  \u001b[92m            ```mermaid\u001b[0m                                                                                         \u001b[35m│\u001b[0m\n",
              "\u001b[35m│\u001b[0m  \u001b[92m            graph TD\u001b[0m                                                                                           \u001b[35m│\u001b[0m\n",
              "\u001b[35m│\u001b[0m  \u001b[92m                A[Component] --> B[Another Component]\u001b[0m                                                          \u001b[35m│\u001b[0m\n",
              "\u001b[35m│\u001b[0m  \u001b[92m            ```\u001b[0m                                                                                                \u001b[35m│\u001b[0m\n",
              "\u001b[35m│\u001b[0m  \u001b[92m          * Then provide your textual explanation below the diagram\u001b[0m                                            \u001b[35m│\u001b[0m\n",
              "\u001b[35m│\u001b[0m  \u001b[92m        - For other questions (facts, definitions, specific values), just provide a text answer WITHOUT \u001b[0m       \u001b[35m│\u001b[0m\n",
              "\u001b[35m│\u001b[0m  \u001b[92mdiagrams\u001b[0m                                                                                                       \u001b[35m│\u001b[0m\n",
              "\u001b[35m│\u001b[0m  \u001b[92m        \u001b[0m                                                                                                       \u001b[35m│\u001b[0m\n",
              "\u001b[35m│\u001b[0m  \u001b[92m        **Format:**\u001b[0m                                                                                            \u001b[35m│\u001b[0m\n",
              "\u001b[35m│\u001b[0m  \u001b[92m        - Start with a direct answer to the question (and Mermaid diagram if applicable)\u001b[0m                       \u001b[35m│\u001b[0m\n",
              "\u001b[35m│\u001b[0m  \u001b[92m        - Use inline citations like \"(Slide 14)\" or \"As shown in Slide 7...\"\u001b[0m                                   \u001b[35m│\u001b[0m\n",
              "\u001b[35m│\u001b[0m  \u001b[92m        - DO NOT copy-paste large blocks of raw slide text\u001b[0m                                                     \u001b[35m│\u001b[0m\n",
              "\u001b[35m│\u001b[0m  \u001b[92m        - End with a brief \"References:\" line listing the slides used\u001b[0m                                          \u001b[35m│\u001b[0m\n",
              "\u001b[35m│\u001b[0m  \u001b[92m        \u001b[0m                                                                                                       \u001b[35m│\u001b[0m\n",
              "\u001b[35m│\u001b[0m                                                                                                                 \u001b[35m│\u001b[0m\n",
              "\u001b[35m╰─────────────────────────────────────────────────────────────────────────────────────────────────────────────────╯\u001b[0m\n"
            ]
          },
          "metadata": {},
          "output_type": "display_data"
        },
        {
          "data": {
            "text/html": [
              "<pre style=\"white-space:pre;overflow-x:auto;line-height:normal;font-family:Menlo,'DejaVu Sans Mono',consolas,'Courier New',monospace\">\n",
              "</pre>\n"
            ],
            "text/plain": [
              "\n"
            ]
          },
          "metadata": {},
          "output_type": "display_data"
        },
        {
          "data": {
            "text/html": [
              "<pre style=\"white-space:pre;overflow-x:auto;line-height:normal;font-family:Menlo,'DejaVu Sans Mono',consolas,'Courier New',monospace\">/opt/homebrew/lib/python3.11/site-packages/rich/live.py:231: UserWarning: install \"ipywidgets\" for Jupyter support\n",
              "  warnings.warn('install \"ipywidgets\" for Jupyter support')\n",
              "</pre>\n"
            ],
            "text/plain": [
              "/opt/homebrew/lib/python3.11/site-packages/rich/live.py:231: UserWarning: install \"ipywidgets\" for Jupyter support\n",
              "  warnings.warn('install \"ipywidgets\" for Jupyter support')\n"
            ]
          },
          "metadata": {},
          "output_type": "display_data"
        },
        {
          "data": {
            "text/html": [
              "<pre style=\"white-space:pre;overflow-x:auto;line-height:normal;font-family:Menlo,'DejaVu Sans Mono',consolas,'Courier New',monospace\"></pre>\n"
            ],
            "text/plain": []
          },
          "metadata": {},
          "output_type": "display_data"
        },
        {
          "data": {
            "text/html": [
              "<pre style=\"white-space:pre;overflow-x:auto;line-height:normal;font-family:Menlo,'DejaVu Sans Mono',consolas,'Courier New',monospace\"><span style=\"color: #800080; text-decoration-color: #800080\">╭──────────────────────────────────────────── 🔧 Agent Tool Execution ────────────────────────────────────────────╮</span>\n",
              "<span style=\"color: #800080; text-decoration-color: #800080\">│</span>                                                                                                                 <span style=\"color: #800080; text-decoration-color: #800080\">│</span>\n",
              "<span style=\"color: #800080; text-decoration-color: #800080\">│</span>  <span style=\"color: #c0c0c0; text-decoration-color: #c0c0c0\">Agent: </span><span style=\"color: #00ff00; text-decoration-color: #00ff00; font-weight: bold\">Intelligent Search Agent</span>                                                                                <span style=\"color: #800080; text-decoration-color: #800080\">│</span>\n",
              "<span style=\"color: #800080; text-decoration-color: #800080\">│</span>                                                                                                                 <span style=\"color: #800080; text-decoration-color: #800080\">│</span>\n",
              "<span style=\"color: #800080; text-decoration-color: #800080\">│</span>  <span style=\"color: #c0c0c0; text-decoration-color: #c0c0c0\">Thought: </span><span style=\"color: #00ff00; text-decoration-color: #00ff00\">Thought: To answer how ColPali works and why it's used for image search, I should start by searching</span>  <span style=\"color: #800080; text-decoration-color: #800080\">│</span>\n",
              "<span style=\"color: #800080; text-decoration-color: #800080\">│</span>  <span style=\"color: #00ff00; text-decoration-color: #00ff00\">the knowledge base for relevant slides that explain ColPali's mechanism and its benefits for image search.</span>     <span style=\"color: #800080; text-decoration-color: #800080\">│</span>\n",
              "<span style=\"color: #800080; text-decoration-color: #800080\">│</span>                                                                                                                 <span style=\"color: #800080; text-decoration-color: #800080\">│</span>\n",
              "<span style=\"color: #800080; text-decoration-color: #800080\">│</span>  <span style=\"color: #c0c0c0; text-decoration-color: #c0c0c0\">Using Tool: </span><span style=\"color: #00ff00; text-decoration-color: #00ff00; font-weight: bold\">search_tool</span>                                                                                        <span style=\"color: #800080; text-decoration-color: #800080\">│</span>\n",
              "<span style=\"color: #800080; text-decoration-color: #800080\">│</span>                                                                                                                 <span style=\"color: #800080; text-decoration-color: #800080\">│</span>\n",
              "<span style=\"color: #800080; text-decoration-color: #800080\">╰─────────────────────────────────────────────────────────────────────────────────────────────────────────────────╯</span>\n",
              "</pre>\n"
            ],
            "text/plain": [
              "\u001b[35m╭─\u001b[0m\u001b[35m───────────────────────────────────────────\u001b[0m\u001b[35m 🔧 Agent Tool Execution \u001b[0m\u001b[35m───────────────────────────────────────────\u001b[0m\u001b[35m─╮\u001b[0m\n",
              "\u001b[35m│\u001b[0m                                                                                                                 \u001b[35m│\u001b[0m\n",
              "\u001b[35m│\u001b[0m  \u001b[37mAgent: \u001b[0m\u001b[1;92mIntelligent Search Agent\u001b[0m                                                                                \u001b[35m│\u001b[0m\n",
              "\u001b[35m│\u001b[0m                                                                                                                 \u001b[35m│\u001b[0m\n",
              "\u001b[35m│\u001b[0m  \u001b[37mThought: \u001b[0m\u001b[92mThought: To answer how ColPali works and why it's used for image search, I should start by searching\u001b[0m  \u001b[35m│\u001b[0m\n",
              "\u001b[35m│\u001b[0m  \u001b[92mthe knowledge base for relevant slides that explain ColPali's mechanism and its benefits for image search.\u001b[0m     \u001b[35m│\u001b[0m\n",
              "\u001b[35m│\u001b[0m                                                                                                                 \u001b[35m│\u001b[0m\n",
              "\u001b[35m│\u001b[0m  \u001b[37mUsing Tool: \u001b[0m\u001b[1;92msearch_tool\u001b[0m                                                                                        \u001b[35m│\u001b[0m\n",
              "\u001b[35m│\u001b[0m                                                                                                                 \u001b[35m│\u001b[0m\n",
              "\u001b[35m╰─────────────────────────────────────────────────────────────────────────────────────────────────────────────────╯\u001b[0m\n"
            ]
          },
          "metadata": {},
          "output_type": "display_data"
        },
        {
          "data": {
            "text/html": [
              "<pre style=\"white-space:pre;overflow-x:auto;line-height:normal;font-family:Menlo,'DejaVu Sans Mono',consolas,'Courier New',monospace\"><span style=\"color: #000080; text-decoration-color: #000080\">╭────────────────────────────────────────────────── Tool Input ───────────────────────────────────────────────────╮</span>\n",
              "<span style=\"color: #000080; text-decoration-color: #000080\">│</span>                                                                                                                 <span style=\"color: #000080; text-decoration-color: #000080\">│</span>\n",
              "<span style=\"color: #000080; text-decoration-color: #000080\">│</span>  <span style=\"color: #e6db74; text-decoration-color: #e6db74; background-color: #ffffff\">\"{\\\"query\\\": \\\"ColPali how it works and benefits for image search\\\"}\"</span>                                          <span style=\"color: #000080; text-decoration-color: #000080\">│</span>\n",
              "<span style=\"color: #000080; text-decoration-color: #000080\">│</span>                                                                                                                 <span style=\"color: #000080; text-decoration-color: #000080\">│</span>\n",
              "<span style=\"color: #000080; text-decoration-color: #000080\">╰─────────────────────────────────────────────────────────────────────────────────────────────────────────────────╯</span>\n",
              "</pre>\n"
            ],
            "text/plain": [
              "\u001b[34m╭─\u001b[0m\u001b[34m─────────────────────────────────────────────────\u001b[0m\u001b[34m Tool Input \u001b[0m\u001b[34m──────────────────────────────────────────────────\u001b[0m\u001b[34m─╮\u001b[0m\n",
              "\u001b[34m│\u001b[0m                                                                                                                 \u001b[34m│\u001b[0m\n",
              "\u001b[34m│\u001b[0m  \u001b[38;2;230;219;116;49m\"{\\\"query\\\": \\\"ColPali how it works and benefits for image search\\\"}\"\u001b[0m                                          \u001b[34m│\u001b[0m\n",
              "\u001b[34m│\u001b[0m                                                                                                                 \u001b[34m│\u001b[0m\n",
              "\u001b[34m╰─────────────────────────────────────────────────────────────────────────────────────────────────────────────────╯\u001b[0m\n"
            ]
          },
          "metadata": {},
          "output_type": "display_data"
        },
        {
          "data": {
            "text/html": [
              "<pre style=\"white-space:pre;overflow-x:auto;line-height:normal;font-family:Menlo,'DejaVu Sans Mono',consolas,'Courier New',monospace\"><span style=\"color: #008000; text-decoration-color: #008000\">╭────────────────────────────────────────────────── Tool Output ──────────────────────────────────────────────────╮</span>\n",
              "<span style=\"color: #008000; text-decoration-color: #008000\">│</span>                                                                                                                 <span style=\"color: #008000; text-decoration-color: #008000\">│</span>\n",
              "<span style=\"color: #008000; text-decoration-color: #008000\">│</span>  <span style=\"color: #00ff00; text-decoration-color: #00ff00\">Found 3 relevant slides:\\n\\n**Result 1 (Slide 26, Score: 17.25)**\\nTitle: What is the temperature of widget </span>   <span style=\"color: #008000; text-decoration-color: #008000\">│</span>\n",
              "<span style=\"color: #008000; text-decoration-color: #008000\">│</span>  <span style=\"color: #00ff00; text-decoration-color: #00ff00\">xzy after 2 minutes?\\nContent Preview: What is the temperature of widget xzy after 2 minutes?</span>                  <span style=\"color: #008000; text-decoration-color: #008000\">│</span>\n",
              "<span style=\"color: #008000; text-decoration-color: #008000\">│</span>  <span style=\"color: #00ff00; text-decoration-color: #00ff00\">Captioning/Feature </span>                                                                                            <span style=\"color: #008000; text-decoration-color: #008000\">│</span>\n",
              "<span style=\"color: #008000; text-decoration-color: #008000\">│</span>  <span style=\"color: #00ff00; text-decoration-color: #00ff00\">Extraction Agent </span>                                                                                              <span style=\"color: #008000; text-decoration-color: #008000\">│</span>\n",
              "<span style=\"color: #008000; text-decoration-color: #008000\">│</span>  <span style=\"color: #00ff00; text-decoration-color: #00ff00\">Single Vector + </span>                                                                                               <span style=\"color: #008000; text-decoration-color: #008000\">│</span>\n",
              "<span style=\"color: #008000; text-decoration-color: #008000\">│</span>  <span style=\"color: #00ff00; text-decoration-color: #00ff00\">Agent </span>                                                                                                         <span style=\"color: #008000; text-decoration-color: #008000\">│</span>\n",
              "<span style=\"color: #008000; text-decoration-color: #008000\">│</span>  <span style=\"color: #00ff00; text-decoration-color: #00ff00\">ColPali - </span>                                                                                                     <span style=\"color: #008000; text-decoration-color: #008000\">│</span>\n",
              "<span style=\"color: #008000; text-decoration-color: #008000\">│</span>  <span style=\"color: #00ff00; text-decoration-color: #00ff00\">Multi Vector</span>                                                                                                   <span style=\"color: #008000; text-decoration-color: #008000\">│</span>\n",
              "<span style=\"color: #008000; text-decoration-color: #008000\">│</span>  <span style=\"color: #00ff00; text-decoration-color: #00ff00\">Search elastic</span>                                                                                                 <span style=\"color: #008000; text-decoration-color: #008000\">│</span>\n",
              "<span style=\"color: #008000; text-decoration-color: #008000\">│</span>  <span style=\"color: #00ff00; text-decoration-color: #00ff00\">Vector - 0.373,...}</span>                                                                                           <span style=\"color: #008000; text-decoration-color: #008000\">│</span>\n",
              "<span style=\"color: #008000; text-decoration-color: #008000\">│</span>  <span style=\"color: #00ff00; text-decoration-color: #00ff00\">Multiple vectors - </span>                                                                                            <span style=\"color: #008000; text-decoration-color: #008000\">│</span>\n",
              "<span style=\"color: #008000; text-decoration-color: #008000\">│</span>  <span style=\"color: #00ff00; text-decoration-color: #00ff00\">0.373,...},0.45,...},...}</span>                                                                                   <span style=\"color: #008000; text-decoration-color: #008000\">│</span>\n",
              "<span style=\"color: #008000; text-decoration-color: #008000\">│</span>  <span style=\"color: #00ff00; text-decoration-color: #00ff00\">Further information from </span>                                                                                      <span style=\"color: #008000; text-decoration-color: #008000\">│</span>\n",
              "<span style=\"color: #008000; text-decoration-color: #008000\">│</span>  <span style=\"color: #00ff00; text-decoration-color: #00ff00\">image URL/Model call</span>                                                                                           <span style=\"color: #008000; text-decoration-color: #008000\">│</span>\n",
              "<span style=\"color: #008000; text-decoration-color: #008000\">│</span>  <span style=\"color: #00ff00; text-decoration-color: #00ff00\">Further information from </span>                                                                                      <span style=\"color: #008000; text-decoration-color: #008000\">│</span>\n",
              "<span style=\"color: #008000; text-decoration-color: #008000\">│</span>  <span style=\"color: #00ff00; text-decoration-color: #00ff00\">i...\\nImage: </span>                                                                                                  <span style=\"color: #008000; text-decoration-color: #008000\">│</span>\n",
              "<span style=\"color: #008000; text-decoration-color: #008000\">│</span>  <span style=\"color: #00ff00; text-decoration-color: #00ff00\">slides_output/slide_026.png\\n--------------------------------------------------------------------------------</span>  <span style=\"color: #008000; text-decoration-color: #008000\">│</span>\n",
              "<span style=\"color: #008000; text-decoration-color: #008000\">│</span>  <span style=\"color: #00ff00; text-decoration-color: #00ff00\">\\n**Result 2 (Slide 17, Score: 17.12)**\\nTitle: Captioning / Feature\\nContent Preview: Captioning / Feature </span>   <span style=\"color: #008000; text-decoration-color: #008000\">│</span>\n",
              "<span style=\"color: #008000; text-decoration-color: #008000\">│</span>  <span style=\"color: #00ff00; text-decoration-color: #00ff00\">Extraction Agent </span>                                                                                              <span style=\"color: #008000; text-decoration-color: #008000\">│</span>\n",
              "<span style=\"color: #008000; text-decoration-color: #008000\">│</span>  <span style=\"color: #00ff00; text-decoration-color: #00ff00\">Single Vector + </span>                                                                                               <span style=\"color: #008000; text-decoration-color: #008000\">│</span>\n",
              "<span style=\"color: #008000; text-decoration-color: #008000\">│</span>  <span style=\"color: #00ff00; text-decoration-color: #00ff00\">Agent </span>                                                                                                         <span style=\"color: #008000; text-decoration-color: #008000\">│</span>\n",
              "<span style=\"color: #008000; text-decoration-color: #008000\">│</span>  <span style=\"color: #00ff00; text-decoration-color: #00ff00\">ColPali - </span>                                                                                                     <span style=\"color: #008000; text-decoration-color: #008000\">│</span>\n",
              "<span style=\"color: #008000; text-decoration-color: #008000\">│</span>  <span style=\"color: #00ff00; text-decoration-color: #00ff00\">Multi Vector</span>                                                                                                   <span style=\"color: #008000; text-decoration-color: #008000\">│</span>\n",
              "<span style=\"color: #008000; text-decoration-color: #008000\">│</span>  <span style=\"color: #00ff00; text-decoration-color: #00ff00\">“A typical RAG model, </span>                                                                                         <span style=\"color: #008000; text-decoration-color: #008000\">│</span>\n",
              "<span style=\"color: #008000; text-decoration-color: #008000\">│</span>  <span style=\"color: #00ff00; text-decoration-color: #00ff00\">using Elastic…..ˮ</span>                                                                                              <span style=\"color: #008000; text-decoration-color: #008000\">│</span>\n",
              "<span style=\"color: #008000; text-decoration-color: #008000\">│</span>  <span style=\"color: #00ff00; text-decoration-color: #00ff00\">Vector - 0.373,...}</span>                                                                                           <span style=\"color: #008000; text-decoration-color: #008000\">│</span>\n",
              "<span style=\"color: #008000; text-decoration-color: #008000\">│</span>  <span style=\"color: #00ff00; text-decoration-color: #00ff00\">Multiple vectors - </span>                                                                                            <span style=\"color: #008000; text-decoration-color: #008000\">│</span>\n",
              "<span style=\"color: #008000; text-decoration-color: #008000\">│</span>  <span style=\"color: #00ff00; text-decoration-color: #00ff00\">0.373,...},0.45,...},...}</span>                                                                                   <span style=\"color: #008000; text-decoration-color: #008000\">│</span>\n",
              "<span style=\"color: #008000; text-decoration-color: #008000\">│</span>  <span style=\"color: #00ff00; text-decoration-color: #00ff00\">Further information from </span>                                                                                      <span style=\"color: #008000; text-decoration-color: #008000\">│</span>\n",
              "<span style=\"color: #008000; text-decoration-color: #008000\">│</span>  <span style=\"color: #00ff00; text-decoration-color: #00ff00\">image URL/Model call</span>                                                                                           <span style=\"color: #008000; text-decoration-color: #008000\">│</span>\n",
              "<span style=\"color: #008000; text-decoration-color: #008000\">│</span>  <span style=\"color: #00ff00; text-decoration-color: #00ff00\">Further information from </span>                                                                                      <span style=\"color: #008000; text-decoration-color: #008000\">│</span>\n",
              "<span style=\"color: #008000; text-decoration-color: #008000\">│</span>  <span style=\"color: #00ff00; text-decoration-color: #00ff00\">image URL/Model call</span>                                                                                           <span style=\"color: #008000; text-decoration-color: #008000\">│</span>\n",
              "<span style=\"color: #008000; text-decoration-color: #008000\">│</span>  <span style=\"color: #00ff00; text-decoration-color: #00ff00\">How do ...\\nImage: </span>                                                                                            <span style=\"color: #008000; text-decoration-color: #008000\">│</span>\n",
              "<span style=\"color: #008000; text-decoration-color: #008000\">│</span>  <span style=\"color: #00ff00; text-decoration-color: #00ff00\">slides_output/slide_017.png\\n--------------------------------------------------------------------------------</span>  <span style=\"color: #008000; text-decoration-color: #008000\">│</span>\n",
              "<span style=\"color: #008000; text-decoration-color: #008000\">│</span>  <span style=\"color: #00ff00; text-decoration-color: #00ff00\">\\n**Result 3 (Slide 13, Score: 16.24)**\\nTitle: Index\\nContent Preview: Index</span>                                  <span style=\"color: #008000; text-decoration-color: #008000\">│</span>\n",
              "<span style=\"color: #008000; text-decoration-color: #008000\">│</span>  <span style=\"color: #00ff00; text-decoration-color: #00ff00\">Document</span>                                                                                                       <span style=\"color: #008000; text-decoration-color: #008000\">│</span>\n",
              "<span style=\"color: #008000; text-decoration-color: #008000\">│</span>  <span style=\"color: #00ff00; text-decoration-color: #00ff00\">Text</span>                                                                                                           <span style=\"color: #008000; text-decoration-color: #008000\">│</span>\n",
              "<span style=\"color: #008000; text-decoration-color: #008000\">│</span>  <span style=\"color: #00ff00; text-decoration-color: #00ff00\">Diagrams</span>                                                                                                       <span style=\"color: #008000; text-decoration-color: #008000\">│</span>\n",
              "<span style=\"color: #008000; text-decoration-color: #008000\">│</span>  <span style=\"color: #00ff00; text-decoration-color: #00ff00\">Metadata</span>                                                                                                       <span style=\"color: #008000; text-decoration-color: #008000\">│</span>\n",
              "<span style=\"color: #008000; text-decoration-color: #008000\">│</span>  <span style=\"color: #00ff00; text-decoration-color: #00ff00\">Chunking </span>                                                                                                      <span style=\"color: #008000; text-decoration-color: #008000\">│</span>\n",
              "<span style=\"color: #008000; text-decoration-color: #008000\">│</span>  <span style=\"color: #00ff00; text-decoration-color: #00ff00\">Semantic</span>                                                                                                       <span style=\"color: #008000; text-decoration-color: #008000\">│</span>\n",
              "<span style=\"color: #008000; text-decoration-color: #008000\">│</span>  <span style=\"color: #00ff00; text-decoration-color: #00ff00\">Caption </span>                                                                                                       <span style=\"color: #008000; text-decoration-color: #008000\">│</span>\n",
              "<span style=\"color: #008000; text-decoration-color: #008000\">│</span>  <span style=\"color: #00ff00; text-decoration-color: #00ff00\">ColPali</span>                                                                                                        <span style=\"color: #008000; text-decoration-color: #008000\">│</span>\n",
              "<span style=\"color: #008000; text-decoration-color: #008000\">│</span>  <span style=\"color: #00ff00; text-decoration-color: #00ff00\">Enrichment</span>                                                                                                     <span style=\"color: #008000; text-decoration-color: #008000\">│</span>\n",
              "<span style=\"color: #008000; text-decoration-color: #008000\">│</span>  <span style=\"color: #00ff00; text-decoration-color: #00ff00\">It all starts on ingestion of the document...\\nImage: </span>                                                         <span style=\"color: #008000; text-decoration-color: #008000\">│</span>\n",
              "<span style=\"color: #008000; text-decoration-color: #008000\">│</span>  <span style=\"color: #00ff00; text-decoration-color: #00ff00\">slides_output/slide_013.png\\n--------------------------------------------------------------------------------</span>  <span style=\"color: #008000; text-decoration-color: #008000\">│</span>\n",
              "<span style=\"color: #008000; text-decoration-color: #008000\">│</span>  <span style=\"color: #00ff00; text-decoration-color: #00ff00\">\\n</span>                                                                                                             <span style=\"color: #008000; text-decoration-color: #008000\">│</span>\n",
              "<span style=\"color: #008000; text-decoration-color: #008000\">│</span>                                                                                                                 <span style=\"color: #008000; text-decoration-color: #008000\">│</span>\n",
              "<span style=\"color: #008000; text-decoration-color: #008000\">╰─────────────────────────────────────────────────────────────────────────────────────────────────────────────────╯</span>\n",
              "</pre>\n"
            ],
            "text/plain": [
              "\u001b[32m╭─\u001b[0m\u001b[32m─────────────────────────────────────────────────\u001b[0m\u001b[32m Tool Output \u001b[0m\u001b[32m─────────────────────────────────────────────────\u001b[0m\u001b[32m─╮\u001b[0m\n",
              "\u001b[32m│\u001b[0m                                                                                                                 \u001b[32m│\u001b[0m\n",
              "\u001b[32m│\u001b[0m  \u001b[92mFound 3 relevant slides:\\n\\n**Result 1 (Slide 26, Score: 17.25)**\\nTitle: What is the temperature of widget \u001b[0m   \u001b[32m│\u001b[0m\n",
              "\u001b[32m│\u001b[0m  \u001b[92mxzy after 2 minutes?\\nContent Preview: What is the temperature of widget xzy after 2 minutes?\u001b[0m                  \u001b[32m│\u001b[0m\n",
              "\u001b[32m│\u001b[0m  \u001b[92mCaptioning/Feature \u001b[0m                                                                                            \u001b[32m│\u001b[0m\n",
              "\u001b[32m│\u001b[0m  \u001b[92mExtraction Agent \u001b[0m                                                                                              \u001b[32m│\u001b[0m\n",
              "\u001b[32m│\u001b[0m  \u001b[92mSingle Vector + \u001b[0m                                                                                               \u001b[32m│\u001b[0m\n",
              "\u001b[32m│\u001b[0m  \u001b[92mAgent \u001b[0m                                                                                                         \u001b[32m│\u001b[0m\n",
              "\u001b[32m│\u001b[0m  \u001b[92mColPali - \u001b[0m                                                                                                     \u001b[32m│\u001b[0m\n",
              "\u001b[32m│\u001b[0m  \u001b[92mMulti Vector\u001b[0m                                                                                                   \u001b[32m│\u001b[0m\n",
              "\u001b[32m│\u001b[0m  \u001b[92mSearch elastic\u001b[0m                                                                                                 \u001b[32m│\u001b[0m\n",
              "\u001b[32m│\u001b[0m  \u001b[92mVector - 0.373,...}\u001b[0m                                                                                           \u001b[32m│\u001b[0m\n",
              "\u001b[32m│\u001b[0m  \u001b[92mMultiple vectors - \u001b[0m                                                                                            \u001b[32m│\u001b[0m\n",
              "\u001b[32m│\u001b[0m  \u001b[92m0.373,...},0.45,...},...}\u001b[0m                                                                                   \u001b[32m│\u001b[0m\n",
              "\u001b[32m│\u001b[0m  \u001b[92mFurther information from \u001b[0m                                                                                      \u001b[32m│\u001b[0m\n",
              "\u001b[32m│\u001b[0m  \u001b[92mimage URL/Model call\u001b[0m                                                                                           \u001b[32m│\u001b[0m\n",
              "\u001b[32m│\u001b[0m  \u001b[92mFurther information from \u001b[0m                                                                                      \u001b[32m│\u001b[0m\n",
              "\u001b[32m│\u001b[0m  \u001b[92mi...\\nImage: \u001b[0m                                                                                                  \u001b[32m│\u001b[0m\n",
              "\u001b[32m│\u001b[0m  \u001b[92mslides_output/slide_026.png\\n--------------------------------------------------------------------------------\u001b[0m  \u001b[32m│\u001b[0m\n",
              "\u001b[32m│\u001b[0m  \u001b[92m\\n**Result 2 (Slide 17, Score: 17.12)**\\nTitle: Captioning / Feature\\nContent Preview: Captioning / Feature \u001b[0m   \u001b[32m│\u001b[0m\n",
              "\u001b[32m│\u001b[0m  \u001b[92mExtraction Agent \u001b[0m                                                                                              \u001b[32m│\u001b[0m\n",
              "\u001b[32m│\u001b[0m  \u001b[92mSingle Vector + \u001b[0m                                                                                               \u001b[32m│\u001b[0m\n",
              "\u001b[32m│\u001b[0m  \u001b[92mAgent \u001b[0m                                                                                                         \u001b[32m│\u001b[0m\n",
              "\u001b[32m│\u001b[0m  \u001b[92mColPali - \u001b[0m                                                                                                     \u001b[32m│\u001b[0m\n",
              "\u001b[32m│\u001b[0m  \u001b[92mMulti Vector\u001b[0m                                                                                                   \u001b[32m│\u001b[0m\n",
              "\u001b[32m│\u001b[0m  \u001b[92m“A typical RAG model, \u001b[0m                                                                                         \u001b[32m│\u001b[0m\n",
              "\u001b[32m│\u001b[0m  \u001b[92musing Elastic…..ˮ\u001b[0m                                                                                              \u001b[32m│\u001b[0m\n",
              "\u001b[32m│\u001b[0m  \u001b[92mVector - 0.373,...}\u001b[0m                                                                                           \u001b[32m│\u001b[0m\n",
              "\u001b[32m│\u001b[0m  \u001b[92mMultiple vectors - \u001b[0m                                                                                            \u001b[32m│\u001b[0m\n",
              "\u001b[32m│\u001b[0m  \u001b[92m0.373,...},0.45,...},...}\u001b[0m                                                                                   \u001b[32m│\u001b[0m\n",
              "\u001b[32m│\u001b[0m  \u001b[92mFurther information from \u001b[0m                                                                                      \u001b[32m│\u001b[0m\n",
              "\u001b[32m│\u001b[0m  \u001b[92mimage URL/Model call\u001b[0m                                                                                           \u001b[32m│\u001b[0m\n",
              "\u001b[32m│\u001b[0m  \u001b[92mFurther information from \u001b[0m                                                                                      \u001b[32m│\u001b[0m\n",
              "\u001b[32m│\u001b[0m  \u001b[92mimage URL/Model call\u001b[0m                                                                                           \u001b[32m│\u001b[0m\n",
              "\u001b[32m│\u001b[0m  \u001b[92mHow do ...\\nImage: \u001b[0m                                                                                            \u001b[32m│\u001b[0m\n",
              "\u001b[32m│\u001b[0m  \u001b[92mslides_output/slide_017.png\\n--------------------------------------------------------------------------------\u001b[0m  \u001b[32m│\u001b[0m\n",
              "\u001b[32m│\u001b[0m  \u001b[92m\\n**Result 3 (Slide 13, Score: 16.24)**\\nTitle: Index\\nContent Preview: Index\u001b[0m                                  \u001b[32m│\u001b[0m\n",
              "\u001b[32m│\u001b[0m  \u001b[92mDocument\u001b[0m                                                                                                       \u001b[32m│\u001b[0m\n",
              "\u001b[32m│\u001b[0m  \u001b[92mText\u001b[0m                                                                                                           \u001b[32m│\u001b[0m\n",
              "\u001b[32m│\u001b[0m  \u001b[92mDiagrams\u001b[0m                                                                                                       \u001b[32m│\u001b[0m\n",
              "\u001b[32m│\u001b[0m  \u001b[92mMetadata\u001b[0m                                                                                                       \u001b[32m│\u001b[0m\n",
              "\u001b[32m│\u001b[0m  \u001b[92mChunking \u001b[0m                                                                                                      \u001b[32m│\u001b[0m\n",
              "\u001b[32m│\u001b[0m  \u001b[92mSemantic\u001b[0m                                                                                                       \u001b[32m│\u001b[0m\n",
              "\u001b[32m│\u001b[0m  \u001b[92mCaption \u001b[0m                                                                                                       \u001b[32m│\u001b[0m\n",
              "\u001b[32m│\u001b[0m  \u001b[92mColPali\u001b[0m                                                                                                        \u001b[32m│\u001b[0m\n",
              "\u001b[32m│\u001b[0m  \u001b[92mEnrichment\u001b[0m                                                                                                     \u001b[32m│\u001b[0m\n",
              "\u001b[32m│\u001b[0m  \u001b[92mIt all starts on ingestion of the document...\\nImage: \u001b[0m                                                         \u001b[32m│\u001b[0m\n",
              "\u001b[32m│\u001b[0m  \u001b[92mslides_output/slide_013.png\\n--------------------------------------------------------------------------------\u001b[0m  \u001b[32m│\u001b[0m\n",
              "\u001b[32m│\u001b[0m  \u001b[92m\\n\u001b[0m                                                                                                             \u001b[32m│\u001b[0m\n",
              "\u001b[32m│\u001b[0m                                                                                                                 \u001b[32m│\u001b[0m\n",
              "\u001b[32m╰─────────────────────────────────────────────────────────────────────────────────────────────────────────────────╯\u001b[0m\n"
            ]
          },
          "metadata": {},
          "output_type": "display_data"
        },
        {
          "data": {
            "text/html": [
              "<pre style=\"white-space:pre;overflow-x:auto;line-height:normal;font-family:Menlo,'DejaVu Sans Mono',consolas,'Courier New',monospace\">\n",
              "</pre>\n"
            ],
            "text/plain": [
              "\n"
            ]
          },
          "metadata": {},
          "output_type": "display_data"
        },
        {
          "data": {
            "text/html": [
              "<pre style=\"white-space:pre;overflow-x:auto;line-height:normal;font-family:Menlo,'DejaVu Sans Mono',consolas,'Courier New',monospace\">/opt/homebrew/lib/python3.11/site-packages/rich/live.py:231: UserWarning: install \"ipywidgets\" for Jupyter support\n",
              "  warnings.warn('install \"ipywidgets\" for Jupyter support')\n",
              "</pre>\n"
            ],
            "text/plain": [
              "/opt/homebrew/lib/python3.11/site-packages/rich/live.py:231: UserWarning: install \"ipywidgets\" for Jupyter support\n",
              "  warnings.warn('install \"ipywidgets\" for Jupyter support')\n"
            ]
          },
          "metadata": {},
          "output_type": "display_data"
        },
        {
          "data": {
            "text/html": [
              "<pre style=\"white-space:pre;overflow-x:auto;line-height:normal;font-family:Menlo,'DejaVu Sans Mono',consolas,'Courier New',monospace\"></pre>\n"
            ],
            "text/plain": []
          },
          "metadata": {},
          "output_type": "display_data"
        },
        {
          "data": {
            "text/html": [
              "<pre style=\"white-space:pre;overflow-x:auto;line-height:normal;font-family:Menlo,'DejaVu Sans Mono',consolas,'Courier New',monospace\"><span style=\"color: #800080; text-decoration-color: #800080\">╭──────────────────────────────────────────── 🔧 Agent Tool Execution ────────────────────────────────────────────╮</span>\n",
              "<span style=\"color: #800080; text-decoration-color: #800080\">│</span>                                                                                                                 <span style=\"color: #800080; text-decoration-color: #800080\">│</span>\n",
              "<span style=\"color: #800080; text-decoration-color: #800080\">│</span>  <span style=\"color: #c0c0c0; text-decoration-color: #c0c0c0\">Agent: </span><span style=\"color: #00ff00; text-decoration-color: #00ff00; font-weight: bold\">Intelligent Search Agent</span>                                                                                <span style=\"color: #800080; text-decoration-color: #800080\">│</span>\n",
              "<span style=\"color: #800080; text-decoration-color: #800080\">│</span>                                                                                                                 <span style=\"color: #800080; text-decoration-color: #800080\">│</span>\n",
              "<span style=\"color: #800080; text-decoration-color: #800080\">│</span>  <span style=\"color: #c0c0c0; text-decoration-color: #c0c0c0\">Thought: </span><span style=\"color: #00ff00; text-decoration-color: #00ff00\">Thought: The top 3 slides (Slides 26, 17, and 13) appear highly relevant—they mention ColPali, </span>       <span style=\"color: #800080; text-decoration-color: #800080\">│</span>\n",
              "<span style=\"color: #800080; text-decoration-color: #800080\">│</span>  <span style=\"color: #00ff00; text-decoration-color: #00ff00\">multi-vector search, feature extraction, and its connection to image data. The images may reveal more context</span>  <span style=\"color: #800080; text-decoration-color: #800080\">│</span>\n",
              "<span style=\"color: #800080; text-decoration-color: #800080\">│</span>  <span style=\"color: #00ff00; text-decoration-color: #00ff00\">about ColPali, such as how it works or its workflow. Next, I will analyze the images from these slides to </span>     <span style=\"color: #800080; text-decoration-color: #800080\">│</span>\n",
              "<span style=\"color: #800080; text-decoration-color: #800080\">│</span>  <span style=\"color: #00ff00; text-decoration-color: #00ff00\">extract visual insights.</span>                                                                                       <span style=\"color: #800080; text-decoration-color: #800080\">│</span>\n",
              "<span style=\"color: #800080; text-decoration-color: #800080\">│</span>                                                                                                                 <span style=\"color: #800080; text-decoration-color: #800080\">│</span>\n",
              "<span style=\"color: #800080; text-decoration-color: #800080\">│</span>  <span style=\"color: #c0c0c0; text-decoration-color: #c0c0c0\">Using Tool: </span><span style=\"color: #00ff00; text-decoration-color: #00ff00; font-weight: bold\">image_analysis_tool</span>                                                                                <span style=\"color: #800080; text-decoration-color: #800080\">│</span>\n",
              "<span style=\"color: #800080; text-decoration-color: #800080\">│</span>                                                                                                                 <span style=\"color: #800080; text-decoration-color: #800080\">│</span>\n",
              "<span style=\"color: #800080; text-decoration-color: #800080\">╰─────────────────────────────────────────────────────────────────────────────────────────────────────────────────╯</span>\n",
              "</pre>\n"
            ],
            "text/plain": [
              "\u001b[35m╭─\u001b[0m\u001b[35m───────────────────────────────────────────\u001b[0m\u001b[35m 🔧 Agent Tool Execution \u001b[0m\u001b[35m───────────────────────────────────────────\u001b[0m\u001b[35m─╮\u001b[0m\n",
              "\u001b[35m│\u001b[0m                                                                                                                 \u001b[35m│\u001b[0m\n",
              "\u001b[35m│\u001b[0m  \u001b[37mAgent: \u001b[0m\u001b[1;92mIntelligent Search Agent\u001b[0m                                                                                \u001b[35m│\u001b[0m\n",
              "\u001b[35m│\u001b[0m                                                                                                                 \u001b[35m│\u001b[0m\n",
              "\u001b[35m│\u001b[0m  \u001b[37mThought: \u001b[0m\u001b[92mThought: The top 3 slides (Slides 26, 17, and 13) appear highly relevant—they mention ColPali, \u001b[0m       \u001b[35m│\u001b[0m\n",
              "\u001b[35m│\u001b[0m  \u001b[92mmulti-vector search, feature extraction, and its connection to image data. The images may reveal more context\u001b[0m  \u001b[35m│\u001b[0m\n",
              "\u001b[35m│\u001b[0m  \u001b[92mabout ColPali, such as how it works or its workflow. Next, I will analyze the images from these slides to \u001b[0m     \u001b[35m│\u001b[0m\n",
              "\u001b[35m│\u001b[0m  \u001b[92mextract visual insights.\u001b[0m                                                                                       \u001b[35m│\u001b[0m\n",
              "\u001b[35m│\u001b[0m                                                                                                                 \u001b[35m│\u001b[0m\n",
              "\u001b[35m│\u001b[0m  \u001b[37mUsing Tool: \u001b[0m\u001b[1;92mimage_analysis_tool\u001b[0m                                                                                \u001b[35m│\u001b[0m\n",
              "\u001b[35m│\u001b[0m                                                                                                                 \u001b[35m│\u001b[0m\n",
              "\u001b[35m╰─────────────────────────────────────────────────────────────────────────────────────────────────────────────────╯\u001b[0m\n"
            ]
          },
          "metadata": {},
          "output_type": "display_data"
        },
        {
          "data": {
            "text/html": [
              "<pre style=\"white-space:pre;overflow-x:auto;line-height:normal;font-family:Menlo,'DejaVu Sans Mono',consolas,'Courier New',monospace\"><span style=\"color: #000080; text-decoration-color: #000080\">╭────────────────────────────────────────────────── Tool Input ───────────────────────────────────────────────────╮</span>\n",
              "<span style=\"color: #000080; text-decoration-color: #000080\">│</span>                                                                                                                 <span style=\"color: #000080; text-decoration-color: #000080\">│</span>\n",
              "<span style=\"color: #000080; text-decoration-color: #000080\">│</span>  <span style=\"color: #e6db74; text-decoration-color: #e6db74; background-color: #ffffff\">\"{\\\"image_url\\\": \\\"slides_output/slide_026.png\\\", \\\"question\\\": \\\"How does ColPali work and why is it </span>         <span style=\"color: #000080; text-decoration-color: #000080\">│</span>\n",
              "<span style=\"color: #000080; text-decoration-color: #000080\">│</span>  <span style=\"color: #e6db74; text-decoration-color: #e6db74; background-color: #ffffff\">suitable for image search?\\\"}\"</span>                                                                                 <span style=\"color: #000080; text-decoration-color: #000080\">│</span>\n",
              "<span style=\"color: #000080; text-decoration-color: #000080\">│</span>                                                                                                                 <span style=\"color: #000080; text-decoration-color: #000080\">│</span>\n",
              "<span style=\"color: #000080; text-decoration-color: #000080\">╰─────────────────────────────────────────────────────────────────────────────────────────────────────────────────╯</span>\n",
              "</pre>\n"
            ],
            "text/plain": [
              "\u001b[34m╭─\u001b[0m\u001b[34m─────────────────────────────────────────────────\u001b[0m\u001b[34m Tool Input \u001b[0m\u001b[34m──────────────────────────────────────────────────\u001b[0m\u001b[34m─╮\u001b[0m\n",
              "\u001b[34m│\u001b[0m                                                                                                                 \u001b[34m│\u001b[0m\n",
              "\u001b[34m│\u001b[0m  \u001b[38;2;230;219;116;49m\"{\\\"image_url\\\": \\\"slides_output/slide_026.png\\\", \\\"question\\\": \\\"How does ColPali work and why is it \u001b[0m         \u001b[34m│\u001b[0m\n",
              "\u001b[34m│\u001b[0m  \u001b[38;2;230;219;116;49msuitable for image search?\\\"}\"\u001b[0m                                                                                 \u001b[34m│\u001b[0m\n",
              "\u001b[34m│\u001b[0m                                                                                                                 \u001b[34m│\u001b[0m\n",
              "\u001b[34m╰─────────────────────────────────────────────────────────────────────────────────────────────────────────────────╯\u001b[0m\n"
            ]
          },
          "metadata": {},
          "output_type": "display_data"
        },
        {
          "data": {
            "text/html": [
              "<pre style=\"white-space:pre;overflow-x:auto;line-height:normal;font-family:Menlo,'DejaVu Sans Mono',consolas,'Courier New',monospace\"><span style=\"color: #008000; text-decoration-color: #008000\">╭────────────────────────────────────────────────── Tool Output ──────────────────────────────────────────────────╮</span>\n",
              "<span style=\"color: #008000; text-decoration-color: #008000\">│</span>                                                                                                                 <span style=\"color: #008000; text-decoration-color: #008000\">│</span>\n",
              "<span style=\"color: #008000; text-decoration-color: #008000\">│</span>  <span style=\"color: #00ff00; text-decoration-color: #00ff00\">slides_output/slide_026.png</span>                                                                                    <span style=\"color: #008000; text-decoration-color: #008000\">│</span>\n",
              "<span style=\"color: #008000; text-decoration-color: #008000\">│</span>                                                                                                                 <span style=\"color: #008000; text-decoration-color: #008000\">│</span>\n",
              "<span style=\"color: #008000; text-decoration-color: #008000\">╰─────────────────────────────────────────────────────────────────────────────────────────────────────────────────╯</span>\n",
              "</pre>\n"
            ],
            "text/plain": [
              "\u001b[32m╭─\u001b[0m\u001b[32m─────────────────────────────────────────────────\u001b[0m\u001b[32m Tool Output \u001b[0m\u001b[32m─────────────────────────────────────────────────\u001b[0m\u001b[32m─╮\u001b[0m\n",
              "\u001b[32m│\u001b[0m                                                                                                                 \u001b[32m│\u001b[0m\n",
              "\u001b[32m│\u001b[0m  \u001b[92mslides_output/slide_026.png\u001b[0m                                                                                    \u001b[32m│\u001b[0m\n",
              "\u001b[32m│\u001b[0m                                                                                                                 \u001b[32m│\u001b[0m\n",
              "\u001b[32m╰─────────────────────────────────────────────────────────────────────────────────────────────────────────────────╯\u001b[0m\n"
            ]
          },
          "metadata": {},
          "output_type": "display_data"
        },
        {
          "data": {
            "text/html": [
              "<pre style=\"white-space:pre;overflow-x:auto;line-height:normal;font-family:Menlo,'DejaVu Sans Mono',consolas,'Courier New',monospace\">\n",
              "</pre>\n"
            ],
            "text/plain": [
              "\n"
            ]
          },
          "metadata": {},
          "output_type": "display_data"
        },
        {
          "data": {
            "text/html": [
              "<pre style=\"white-space:pre;overflow-x:auto;line-height:normal;font-family:Menlo,'DejaVu Sans Mono',consolas,'Courier New',monospace\">/opt/homebrew/lib/python3.11/site-packages/rich/live.py:231: UserWarning: install \"ipywidgets\" for Jupyter support\n",
              "  warnings.warn('install \"ipywidgets\" for Jupyter support')\n",
              "</pre>\n"
            ],
            "text/plain": [
              "/opt/homebrew/lib/python3.11/site-packages/rich/live.py:231: UserWarning: install \"ipywidgets\" for Jupyter support\n",
              "  warnings.warn('install \"ipywidgets\" for Jupyter support')\n"
            ]
          },
          "metadata": {},
          "output_type": "display_data"
        },
        {
          "data": {
            "text/html": [
              "<pre style=\"white-space:pre;overflow-x:auto;line-height:normal;font-family:Menlo,'DejaVu Sans Mono',consolas,'Courier New',monospace\"></pre>\n"
            ],
            "text/plain": []
          },
          "metadata": {},
          "output_type": "display_data"
        },
        {
          "data": {
            "text/html": [
              "<pre style=\"white-space:pre;overflow-x:auto;line-height:normal;font-family:Menlo,'DejaVu Sans Mono',consolas,'Courier New',monospace\"><span style=\"color: #800080; text-decoration-color: #800080\">╭──────────────────────────────────────────── 🔧 Agent Tool Execution ────────────────────────────────────────────╮</span>\n",
              "<span style=\"color: #800080; text-decoration-color: #800080\">│</span>                                                                                                                 <span style=\"color: #800080; text-decoration-color: #800080\">│</span>\n",
              "<span style=\"color: #800080; text-decoration-color: #800080\">│</span>  <span style=\"color: #c0c0c0; text-decoration-color: #c0c0c0\">Agent: </span><span style=\"color: #00ff00; text-decoration-color: #00ff00; font-weight: bold\">Intelligent Search Agent</span>                                                                                <span style=\"color: #800080; text-decoration-color: #800080\">│</span>\n",
              "<span style=\"color: #800080; text-decoration-color: #800080\">│</span>                                                                                                                 <span style=\"color: #800080; text-decoration-color: #800080\">│</span>\n",
              "<span style=\"color: #800080; text-decoration-color: #800080\">│</span>  <span style=\"color: #c0c0c0; text-decoration-color: #c0c0c0\">Thought: </span><span style=\"color: #00ff00; text-decoration-color: #00ff00\">Thought: I should also analyze the images from Slide 17 and Slide 13, as they might provide </span>          <span style=\"color: #800080; text-decoration-color: #800080\">│</span>\n",
              "<span style=\"color: #800080; text-decoration-color: #800080\">│</span>  <span style=\"color: #00ff00; text-decoration-color: #00ff00\">additional workflow diagrams or key information that clarifies ColPali’s operation and its benefits for image</span>  <span style=\"color: #800080; text-decoration-color: #800080\">│</span>\n",
              "<span style=\"color: #800080; text-decoration-color: #800080\">│</span>  <span style=\"color: #00ff00; text-decoration-color: #00ff00\">search.</span>                                                                                                        <span style=\"color: #800080; text-decoration-color: #800080\">│</span>\n",
              "<span style=\"color: #800080; text-decoration-color: #800080\">│</span>                                                                                                                 <span style=\"color: #800080; text-decoration-color: #800080\">│</span>\n",
              "<span style=\"color: #800080; text-decoration-color: #800080\">│</span>  <span style=\"color: #c0c0c0; text-decoration-color: #c0c0c0\">Using Tool: </span><span style=\"color: #00ff00; text-decoration-color: #00ff00; font-weight: bold\">image_analysis_tool</span>                                                                                <span style=\"color: #800080; text-decoration-color: #800080\">│</span>\n",
              "<span style=\"color: #800080; text-decoration-color: #800080\">│</span>                                                                                                                 <span style=\"color: #800080; text-decoration-color: #800080\">│</span>\n",
              "<span style=\"color: #800080; text-decoration-color: #800080\">╰─────────────────────────────────────────────────────────────────────────────────────────────────────────────────╯</span>\n",
              "</pre>\n"
            ],
            "text/plain": [
              "\u001b[35m╭─\u001b[0m\u001b[35m───────────────────────────────────────────\u001b[0m\u001b[35m 🔧 Agent Tool Execution \u001b[0m\u001b[35m───────────────────────────────────────────\u001b[0m\u001b[35m─╮\u001b[0m\n",
              "\u001b[35m│\u001b[0m                                                                                                                 \u001b[35m│\u001b[0m\n",
              "\u001b[35m│\u001b[0m  \u001b[37mAgent: \u001b[0m\u001b[1;92mIntelligent Search Agent\u001b[0m                                                                                \u001b[35m│\u001b[0m\n",
              "\u001b[35m│\u001b[0m                                                                                                                 \u001b[35m│\u001b[0m\n",
              "\u001b[35m│\u001b[0m  \u001b[37mThought: \u001b[0m\u001b[92mThought: I should also analyze the images from Slide 17 and Slide 13, as they might provide \u001b[0m          \u001b[35m│\u001b[0m\n",
              "\u001b[35m│\u001b[0m  \u001b[92madditional workflow diagrams or key information that clarifies ColPali’s operation and its benefits for image\u001b[0m  \u001b[35m│\u001b[0m\n",
              "\u001b[35m│\u001b[0m  \u001b[92msearch.\u001b[0m                                                                                                        \u001b[35m│\u001b[0m\n",
              "\u001b[35m│\u001b[0m                                                                                                                 \u001b[35m│\u001b[0m\n",
              "\u001b[35m│\u001b[0m  \u001b[37mUsing Tool: \u001b[0m\u001b[1;92mimage_analysis_tool\u001b[0m                                                                                \u001b[35m│\u001b[0m\n",
              "\u001b[35m│\u001b[0m                                                                                                                 \u001b[35m│\u001b[0m\n",
              "\u001b[35m╰─────────────────────────────────────────────────────────────────────────────────────────────────────────────────╯\u001b[0m\n"
            ]
          },
          "metadata": {},
          "output_type": "display_data"
        },
        {
          "data": {
            "text/html": [
              "<pre style=\"white-space:pre;overflow-x:auto;line-height:normal;font-family:Menlo,'DejaVu Sans Mono',consolas,'Courier New',monospace\"><span style=\"color: #000080; text-decoration-color: #000080\">╭────────────────────────────────────────────────── Tool Input ───────────────────────────────────────────────────╮</span>\n",
              "<span style=\"color: #000080; text-decoration-color: #000080\">│</span>                                                                                                                 <span style=\"color: #000080; text-decoration-color: #000080\">│</span>\n",
              "<span style=\"color: #000080; text-decoration-color: #000080\">│</span>  <span style=\"color: #e6db74; text-decoration-color: #e6db74; background-color: #ffffff\">\"{\\\"image_url\\\": \\\"slides_output/slide_017.png\\\", \\\"question\\\": \\\"How does ColPali work and why is it used </span>    <span style=\"color: #000080; text-decoration-color: #000080\">│</span>\n",
              "<span style=\"color: #000080; text-decoration-color: #000080\">│</span>  <span style=\"color: #e6db74; text-decoration-color: #e6db74; background-color: #ffffff\">for image search?\\\"}\"</span>                                                                                          <span style=\"color: #000080; text-decoration-color: #000080\">│</span>\n",
              "<span style=\"color: #000080; text-decoration-color: #000080\">│</span>                                                                                                                 <span style=\"color: #000080; text-decoration-color: #000080\">│</span>\n",
              "<span style=\"color: #000080; text-decoration-color: #000080\">╰─────────────────────────────────────────────────────────────────────────────────────────────────────────────────╯</span>\n",
              "</pre>\n"
            ],
            "text/plain": [
              "\u001b[34m╭─\u001b[0m\u001b[34m─────────────────────────────────────────────────\u001b[0m\u001b[34m Tool Input \u001b[0m\u001b[34m──────────────────────────────────────────────────\u001b[0m\u001b[34m─╮\u001b[0m\n",
              "\u001b[34m│\u001b[0m                                                                                                                 \u001b[34m│\u001b[0m\n",
              "\u001b[34m│\u001b[0m  \u001b[38;2;230;219;116;49m\"{\\\"image_url\\\": \\\"slides_output/slide_017.png\\\", \\\"question\\\": \\\"How does ColPali work and why is it used \u001b[0m    \u001b[34m│\u001b[0m\n",
              "\u001b[34m│\u001b[0m  \u001b[38;2;230;219;116;49mfor image search?\\\"}\"\u001b[0m                                                                                          \u001b[34m│\u001b[0m\n",
              "\u001b[34m│\u001b[0m                                                                                                                 \u001b[34m│\u001b[0m\n",
              "\u001b[34m╰─────────────────────────────────────────────────────────────────────────────────────────────────────────────────╯\u001b[0m\n"
            ]
          },
          "metadata": {},
          "output_type": "display_data"
        },
        {
          "data": {
            "text/html": [
              "<pre style=\"white-space:pre;overflow-x:auto;line-height:normal;font-family:Menlo,'DejaVu Sans Mono',consolas,'Courier New',monospace\"><span style=\"color: #008000; text-decoration-color: #008000\">╭────────────────────────────────────────────────── Tool Output ──────────────────────────────────────────────────╮</span>\n",
              "<span style=\"color: #008000; text-decoration-color: #008000\">│</span>                                                                                                                 <span style=\"color: #008000; text-decoration-color: #008000\">│</span>\n",
              "<span style=\"color: #008000; text-decoration-color: #008000\">│</span>  <span style=\"color: #00ff00; text-decoration-color: #00ff00\">slides_output/slide_017.png</span>                                                                                    <span style=\"color: #008000; text-decoration-color: #008000\">│</span>\n",
              "<span style=\"color: #008000; text-decoration-color: #008000\">│</span>                                                                                                                 <span style=\"color: #008000; text-decoration-color: #008000\">│</span>\n",
              "<span style=\"color: #008000; text-decoration-color: #008000\">│</span>                                                                                                                 <span style=\"color: #008000; text-decoration-color: #008000\">│</span>\n",
              "<span style=\"color: #008000; text-decoration-color: #008000\">│</span>  <span style=\"color: #00ff00; text-decoration-color: #00ff00\">You ONLY have access to the following tools, and should NEVER make up tools that are not listed here:</span>          <span style=\"color: #008000; text-decoration-color: #008000\">│</span>\n",
              "<span style=\"color: #008000; text-decoration-color: #008000\">│</span>                                                                                                                 <span style=\"color: #008000; text-decoration-color: #008000\">│</span>\n",
              "<span style=\"color: #008000; text-decoration-color: #008000\">│</span>  <span style=\"color: #00ff00; text-decoration-color: #00ff00\">Tool Name: search_tool</span>                                                                                         <span style=\"color: #008000; text-decoration-color: #008000\">│</span>\n",
              "<span style=\"color: #008000; text-decoration-color: #008000\">│</span>  <span style=\"color: #00ff00; text-decoration-color: #00ff00\">Tool Arguments: {'query': {'description': 'The search query to find relevant information in the knowledge </span>     <span style=\"color: #008000; text-decoration-color: #008000\">│</span>\n",
              "<span style=\"color: #008000; text-decoration-color: #008000\">│</span>  <span style=\"color: #00ff00; text-decoration-color: #00ff00\">base', 'type': 'str'}}</span>                                                                                         <span style=\"color: #008000; text-decoration-color: #008000\">│</span>\n",
              "<span style=\"color: #008000; text-decoration-color: #008000\">│</span>  <span style=\"color: #00ff00; text-decoration-color: #00ff00\">Tool Description: Specializes in information retrieval, query processing and content discovery. Searches the </span>  <span style=\"color: #008000; text-decoration-color: #008000\">│</span>\n",
              "<span style=\"color: #008000; text-decoration-color: #008000\">│</span>  <span style=\"color: #00ff00; text-decoration-color: #00ff00\">Elasticsearch knowledge base using hybrid search (BM25 + Vector). Returns chunks with text content and image </span>  <span style=\"color: #008000; text-decoration-color: #008000\">│</span>\n",
              "<span style=\"color: #008000; text-decoration-color: #008000\">│</span>  <span style=\"color: #00ff00; text-decoration-color: #00ff00\">URLs for further analysis.</span>                                                                                     <span style=\"color: #008000; text-decoration-color: #008000\">│</span>\n",
              "<span style=\"color: #008000; text-decoration-color: #008000\">│</span>  <span style=\"color: #00ff00; text-decoration-color: #00ff00\">Tool Name: image_analysis_tool</span>                                                                                 <span style=\"color: #008000; text-decoration-color: #008000\">│</span>\n",
              "<span style=\"color: #008000; text-decoration-color: #008000\">│</span>  <span style=\"color: #00ff00; text-decoration-color: #00ff00\">Tool Arguments: {'image_url': {'description': 'The path or URL of the image to analyze', 'type': 'str'}, </span>      <span style=\"color: #008000; text-decoration-color: #008000\">│</span>\n",
              "<span style=\"color: #008000; text-decoration-color: #008000\">│</span>  <span style=\"color: #00ff00; text-decoration-color: #00ff00\">'question': {'description': 'The specific question about the image', 'type': 'str'}}</span>                           <span style=\"color: #008000; text-decoration-color: #008000\">│</span>\n",
              "<span style=\"color: #008000; text-decoration-color: #008000\">│</span>  <span style=\"color: #00ff00; text-decoration-color: #00ff00\">Tool Description: Loads slide images and returns their file paths for visual analysis. Use this when you need</span>  <span style=\"color: #008000; text-decoration-color: #008000\">│</span>\n",
              "<span style=\"color: #008000; text-decoration-color: #008000\">│</span>  <span style=\"color: #00ff00; text-decoration-color: #00ff00\">to examine diagrams, charts, or visual elements in the slides.</span>                                                 <span style=\"color: #008000; text-decoration-color: #008000\">│</span>\n",
              "<span style=\"color: #008000; text-decoration-color: #008000\">│</span>                                                                                                                 <span style=\"color: #008000; text-decoration-color: #008000\">│</span>\n",
              "<span style=\"color: #008000; text-decoration-color: #008000\">│</span>  <span style=\"color: #00ff00; text-decoration-color: #00ff00\">IMPORTANT: Use the following format in your response:</span>                                                          <span style=\"color: #008000; text-decoration-color: #008000\">│</span>\n",
              "<span style=\"color: #008000; text-decoration-color: #008000\">│</span>                                                                                                                 <span style=\"color: #008000; text-decoration-color: #008000\">│</span>\n",
              "<span style=\"color: #008000; text-decoration-color: #008000\">│</span>  <span style=\"color: #00ff00; text-decoration-color: #00ff00\">```</span>                                                                                                            <span style=\"color: #008000; text-decoration-color: #008000\">│</span>\n",
              "<span style=\"color: #008000; text-decoration-color: #008000\">│</span>  <span style=\"color: #00ff00; text-decoration-color: #00ff00\">Thought: you should always think about what to do</span>                                                              <span style=\"color: #008000; text-decoration-color: #008000\">│</span>\n",
              "<span style=\"color: #008000; text-decoration-color: #008000\">│</span>  <span style=\"color: #00ff00; text-decoration-color: #00ff00\">Action: the action to take, only one name of [search_tool, image_analysis_tool], just the name, exactly as </span>    <span style=\"color: #008000; text-decoration-color: #008000\">│</span>\n",
              "<span style=\"color: #008000; text-decoration-color: #008000\">│</span>  <span style=\"color: #00ff00; text-decoration-color: #00ff00\">it's written.</span>                                                                                                  <span style=\"color: #008000; text-decoration-color: #008000\">│</span>\n",
              "<span style=\"color: #008000; text-decoration-color: #008000\">│</span>  <span style=\"color: #00ff00; text-decoration-color: #00ff00\">Action Input: the input to the action, just a simple JSON object, enclosed in curly braces, using \" to wrap </span>   <span style=\"color: #008000; text-decoration-color: #008000\">│</span>\n",
              "<span style=\"color: #008000; text-decoration-color: #008000\">│</span>  <span style=\"color: #00ff00; text-decoration-color: #00ff00\">keys and values.</span>                                                                                               <span style=\"color: #008000; text-decoration-color: #008000\">│</span>\n",
              "<span style=\"color: #008000; text-decoration-color: #008000\">│</span>  <span style=\"color: #00ff00; text-decoration-color: #00ff00\">Observation: the result of the action</span>                                                                          <span style=\"color: #008000; text-decoration-color: #008000\">│</span>\n",
              "<span style=\"color: #008000; text-decoration-color: #008000\">│</span>  <span style=\"color: #00ff00; text-decoration-color: #00ff00\">```</span>                                                                                                            <span style=\"color: #008000; text-decoration-color: #008000\">│</span>\n",
              "<span style=\"color: #008000; text-decoration-color: #008000\">│</span>                                                                                                                 <span style=\"color: #008000; text-decoration-color: #008000\">│</span>\n",
              "<span style=\"color: #008000; text-decoration-color: #008000\">│</span>  <span style=\"color: #00ff00; text-decoration-color: #00ff00\">Once all necessary information is gathered, return the following format:</span>                                       <span style=\"color: #008000; text-decoration-color: #008000\">│</span>\n",
              "<span style=\"color: #008000; text-decoration-color: #008000\">│</span>                                                                                                                 <span style=\"color: #008000; text-decoration-color: #008000\">│</span>\n",
              "<span style=\"color: #008000; text-decoration-color: #008000\">│</span>  <span style=\"color: #00ff00; text-decoration-color: #00ff00\">```</span>                                                                                                            <span style=\"color: #008000; text-decoration-color: #008000\">│</span>\n",
              "<span style=\"color: #008000; text-decoration-color: #008000\">│</span>  <span style=\"color: #00ff00; text-decoration-color: #00ff00\">Thought: I now know the final answer</span>                                                                           <span style=\"color: #008000; text-decoration-color: #008000\">│</span>\n",
              "<span style=\"color: #008000; text-decoration-color: #008000\">│</span>  <span style=\"color: #00ff00; text-decoration-color: #00ff00\">Final Answer: the final answer to the original input question</span>                                                  <span style=\"color: #008000; text-decoration-color: #008000\">│</span>\n",
              "<span style=\"color: #008000; text-decoration-color: #008000\">│</span>  <span style=\"color: #00ff00; text-decoration-color: #00ff00\">```</span>                                                                                                            <span style=\"color: #008000; text-decoration-color: #008000\">│</span>\n",
              "<span style=\"color: #008000; text-decoration-color: #008000\">│</span>                                                                                                                 <span style=\"color: #008000; text-decoration-color: #008000\">│</span>\n",
              "<span style=\"color: #008000; text-decoration-color: #008000\">╰─────────────────────────────────────────────────────────────────────────────────────────────────────────────────╯</span>\n",
              "</pre>\n"
            ],
            "text/plain": [
              "\u001b[32m╭─\u001b[0m\u001b[32m─────────────────────────────────────────────────\u001b[0m\u001b[32m Tool Output \u001b[0m\u001b[32m─────────────────────────────────────────────────\u001b[0m\u001b[32m─╮\u001b[0m\n",
              "\u001b[32m│\u001b[0m                                                                                                                 \u001b[32m│\u001b[0m\n",
              "\u001b[32m│\u001b[0m  \u001b[92mslides_output/slide_017.png\u001b[0m                                                                                    \u001b[32m│\u001b[0m\n",
              "\u001b[32m│\u001b[0m                                                                                                                 \u001b[32m│\u001b[0m\n",
              "\u001b[32m│\u001b[0m                                                                                                                 \u001b[32m│\u001b[0m\n",
              "\u001b[32m│\u001b[0m  \u001b[92mYou ONLY have access to the following tools, and should NEVER make up tools that are not listed here:\u001b[0m          \u001b[32m│\u001b[0m\n",
              "\u001b[32m│\u001b[0m                                                                                                                 \u001b[32m│\u001b[0m\n",
              "\u001b[32m│\u001b[0m  \u001b[92mTool Name: search_tool\u001b[0m                                                                                         \u001b[32m│\u001b[0m\n",
              "\u001b[32m│\u001b[0m  \u001b[92mTool Arguments: {'query': {'description': 'The search query to find relevant information in the knowledge \u001b[0m     \u001b[32m│\u001b[0m\n",
              "\u001b[32m│\u001b[0m  \u001b[92mbase', 'type': 'str'}}\u001b[0m                                                                                         \u001b[32m│\u001b[0m\n",
              "\u001b[32m│\u001b[0m  \u001b[92mTool Description: Specializes in information retrieval, query processing and content discovery. Searches the \u001b[0m  \u001b[32m│\u001b[0m\n",
              "\u001b[32m│\u001b[0m  \u001b[92mElasticsearch knowledge base using hybrid search (BM25 + Vector). Returns chunks with text content and image \u001b[0m  \u001b[32m│\u001b[0m\n",
              "\u001b[32m│\u001b[0m  \u001b[92mURLs for further analysis.\u001b[0m                                                                                     \u001b[32m│\u001b[0m\n",
              "\u001b[32m│\u001b[0m  \u001b[92mTool Name: image_analysis_tool\u001b[0m                                                                                 \u001b[32m│\u001b[0m\n",
              "\u001b[32m│\u001b[0m  \u001b[92mTool Arguments: {'image_url': {'description': 'The path or URL of the image to analyze', 'type': 'str'}, \u001b[0m      \u001b[32m│\u001b[0m\n",
              "\u001b[32m│\u001b[0m  \u001b[92m'question': {'description': 'The specific question about the image', 'type': 'str'}}\u001b[0m                           \u001b[32m│\u001b[0m\n",
              "\u001b[32m│\u001b[0m  \u001b[92mTool Description: Loads slide images and returns their file paths for visual analysis. Use this when you need\u001b[0m  \u001b[32m│\u001b[0m\n",
              "\u001b[32m│\u001b[0m  \u001b[92mto examine diagrams, charts, or visual elements in the slides.\u001b[0m                                                 \u001b[32m│\u001b[0m\n",
              "\u001b[32m│\u001b[0m                                                                                                                 \u001b[32m│\u001b[0m\n",
              "\u001b[32m│\u001b[0m  \u001b[92mIMPORTANT: Use the following format in your response:\u001b[0m                                                          \u001b[32m│\u001b[0m\n",
              "\u001b[32m│\u001b[0m                                                                                                                 \u001b[32m│\u001b[0m\n",
              "\u001b[32m│\u001b[0m  \u001b[92m```\u001b[0m                                                                                                            \u001b[32m│\u001b[0m\n",
              "\u001b[32m│\u001b[0m  \u001b[92mThought: you should always think about what to do\u001b[0m                                                              \u001b[32m│\u001b[0m\n",
              "\u001b[32m│\u001b[0m  \u001b[92mAction: the action to take, only one name of [search_tool, image_analysis_tool], just the name, exactly as \u001b[0m    \u001b[32m│\u001b[0m\n",
              "\u001b[32m│\u001b[0m  \u001b[92mit's written.\u001b[0m                                                                                                  \u001b[32m│\u001b[0m\n",
              "\u001b[32m│\u001b[0m  \u001b[92mAction Input: the input to the action, just a simple JSON object, enclosed in curly braces, using \" to wrap \u001b[0m   \u001b[32m│\u001b[0m\n",
              "\u001b[32m│\u001b[0m  \u001b[92mkeys and values.\u001b[0m                                                                                               \u001b[32m│\u001b[0m\n",
              "\u001b[32m│\u001b[0m  \u001b[92mObservation: the result of the action\u001b[0m                                                                          \u001b[32m│\u001b[0m\n",
              "\u001b[32m│\u001b[0m  \u001b[92m```\u001b[0m                                                                                                            \u001b[32m│\u001b[0m\n",
              "\u001b[32m│\u001b[0m                                                                                                                 \u001b[32m│\u001b[0m\n",
              "\u001b[32m│\u001b[0m  \u001b[92mOnce all necessary information is gathered, return the following format:\u001b[0m                                       \u001b[32m│\u001b[0m\n",
              "\u001b[32m│\u001b[0m                                                                                                                 \u001b[32m│\u001b[0m\n",
              "\u001b[32m│\u001b[0m  \u001b[92m```\u001b[0m                                                                                                            \u001b[32m│\u001b[0m\n",
              "\u001b[32m│\u001b[0m  \u001b[92mThought: I now know the final answer\u001b[0m                                                                           \u001b[32m│\u001b[0m\n",
              "\u001b[32m│\u001b[0m  \u001b[92mFinal Answer: the final answer to the original input question\u001b[0m                                                  \u001b[32m│\u001b[0m\n",
              "\u001b[32m│\u001b[0m  \u001b[92m```\u001b[0m                                                                                                            \u001b[32m│\u001b[0m\n",
              "\u001b[32m│\u001b[0m                                                                                                                 \u001b[32m│\u001b[0m\n",
              "\u001b[32m╰─────────────────────────────────────────────────────────────────────────────────────────────────────────────────╯\u001b[0m\n"
            ]
          },
          "metadata": {},
          "output_type": "display_data"
        },
        {
          "data": {
            "text/html": [
              "<pre style=\"white-space:pre;overflow-x:auto;line-height:normal;font-family:Menlo,'DejaVu Sans Mono',consolas,'Courier New',monospace\">\n",
              "</pre>\n"
            ],
            "text/plain": [
              "\n"
            ]
          },
          "metadata": {},
          "output_type": "display_data"
        },
        {
          "data": {
            "text/html": [
              "<pre style=\"white-space:pre;overflow-x:auto;line-height:normal;font-family:Menlo,'DejaVu Sans Mono',consolas,'Courier New',monospace\">/opt/homebrew/lib/python3.11/site-packages/rich/live.py:231: UserWarning: install \"ipywidgets\" for Jupyter support\n",
              "  warnings.warn('install \"ipywidgets\" for Jupyter support')\n",
              "</pre>\n"
            ],
            "text/plain": [
              "/opt/homebrew/lib/python3.11/site-packages/rich/live.py:231: UserWarning: install \"ipywidgets\" for Jupyter support\n",
              "  warnings.warn('install \"ipywidgets\" for Jupyter support')\n"
            ]
          },
          "metadata": {},
          "output_type": "display_data"
        },
        {
          "data": {
            "text/html": [
              "<pre style=\"white-space:pre;overflow-x:auto;line-height:normal;font-family:Menlo,'DejaVu Sans Mono',consolas,'Courier New',monospace\"></pre>\n"
            ],
            "text/plain": []
          },
          "metadata": {},
          "output_type": "display_data"
        },
        {
          "data": {
            "text/html": [
              "<pre style=\"white-space:pre;overflow-x:auto;line-height:normal;font-family:Menlo,'DejaVu Sans Mono',consolas,'Courier New',monospace\"><span style=\"color: #800080; text-decoration-color: #800080\">╭──────────────────────────────────────────── 🔧 Agent Tool Execution ────────────────────────────────────────────╮</span>\n",
              "<span style=\"color: #800080; text-decoration-color: #800080\">│</span>                                                                                                                 <span style=\"color: #800080; text-decoration-color: #800080\">│</span>\n",
              "<span style=\"color: #800080; text-decoration-color: #800080\">│</span>  <span style=\"color: #c0c0c0; text-decoration-color: #c0c0c0\">Agent: </span><span style=\"color: #00ff00; text-decoration-color: #00ff00; font-weight: bold\">Intelligent Search Agent</span>                                                                                <span style=\"color: #800080; text-decoration-color: #800080\">│</span>\n",
              "<span style=\"color: #800080; text-decoration-color: #800080\">│</span>                                                                                                                 <span style=\"color: #800080; text-decoration-color: #800080\">│</span>\n",
              "<span style=\"color: #800080; text-decoration-color: #800080\">│</span>  <span style=\"color: #c0c0c0; text-decoration-color: #c0c0c0\">Thought: </span><span style=\"color: #00ff00; text-decoration-color: #00ff00\">Thought: To ensure completeness, I should analyze the image from Slide 13 as well, since it may </span>      <span style=\"color: #800080; text-decoration-color: #800080\">│</span>\n",
              "<span style=\"color: #800080; text-decoration-color: #800080\">│</span>  <span style=\"color: #00ff00; text-decoration-color: #00ff00\">contain an overview or visual elements related to ColPali's process or indexing method.</span>                        <span style=\"color: #800080; text-decoration-color: #800080\">│</span>\n",
              "<span style=\"color: #800080; text-decoration-color: #800080\">│</span>                                                                                                                 <span style=\"color: #800080; text-decoration-color: #800080\">│</span>\n",
              "<span style=\"color: #800080; text-decoration-color: #800080\">│</span>  <span style=\"color: #c0c0c0; text-decoration-color: #c0c0c0\">Using Tool: </span><span style=\"color: #00ff00; text-decoration-color: #00ff00; font-weight: bold\">image_analysis_tool</span>                                                                                <span style=\"color: #800080; text-decoration-color: #800080\">│</span>\n",
              "<span style=\"color: #800080; text-decoration-color: #800080\">│</span>                                                                                                                 <span style=\"color: #800080; text-decoration-color: #800080\">│</span>\n",
              "<span style=\"color: #800080; text-decoration-color: #800080\">╰─────────────────────────────────────────────────────────────────────────────────────────────────────────────────╯</span>\n",
              "</pre>\n"
            ],
            "text/plain": [
              "\u001b[35m╭─\u001b[0m\u001b[35m───────────────────────────────────────────\u001b[0m\u001b[35m 🔧 Agent Tool Execution \u001b[0m\u001b[35m───────────────────────────────────────────\u001b[0m\u001b[35m─╮\u001b[0m\n",
              "\u001b[35m│\u001b[0m                                                                                                                 \u001b[35m│\u001b[0m\n",
              "\u001b[35m│\u001b[0m  \u001b[37mAgent: \u001b[0m\u001b[1;92mIntelligent Search Agent\u001b[0m                                                                                \u001b[35m│\u001b[0m\n",
              "\u001b[35m│\u001b[0m                                                                                                                 \u001b[35m│\u001b[0m\n",
              "\u001b[35m│\u001b[0m  \u001b[37mThought: \u001b[0m\u001b[92mThought: To ensure completeness, I should analyze the image from Slide 13 as well, since it may \u001b[0m      \u001b[35m│\u001b[0m\n",
              "\u001b[35m│\u001b[0m  \u001b[92mcontain an overview or visual elements related to ColPali's process or indexing method.\u001b[0m                        \u001b[35m│\u001b[0m\n",
              "\u001b[35m│\u001b[0m                                                                                                                 \u001b[35m│\u001b[0m\n",
              "\u001b[35m│\u001b[0m  \u001b[37mUsing Tool: \u001b[0m\u001b[1;92mimage_analysis_tool\u001b[0m                                                                                \u001b[35m│\u001b[0m\n",
              "\u001b[35m│\u001b[0m                                                                                                                 \u001b[35m│\u001b[0m\n",
              "\u001b[35m╰─────────────────────────────────────────────────────────────────────────────────────────────────────────────────╯\u001b[0m\n"
            ]
          },
          "metadata": {},
          "output_type": "display_data"
        },
        {
          "data": {
            "text/html": [
              "<pre style=\"white-space:pre;overflow-x:auto;line-height:normal;font-family:Menlo,'DejaVu Sans Mono',consolas,'Courier New',monospace\"><span style=\"color: #000080; text-decoration-color: #000080\">╭────────────────────────────────────────────────── Tool Input ───────────────────────────────────────────────────╮</span>\n",
              "<span style=\"color: #000080; text-decoration-color: #000080\">│</span>                                                                                                                 <span style=\"color: #000080; text-decoration-color: #000080\">│</span>\n",
              "<span style=\"color: #000080; text-decoration-color: #000080\">│</span>  <span style=\"color: #e6db74; text-decoration-color: #e6db74; background-color: #ffffff\">\"{\\\"image_url\\\": \\\"slides_output/slide_013.png\\\", \\\"question\\\": \\\"How does ColPali work and why is it used </span>    <span style=\"color: #000080; text-decoration-color: #000080\">│</span>\n",
              "<span style=\"color: #000080; text-decoration-color: #000080\">│</span>  <span style=\"color: #e6db74; text-decoration-color: #e6db74; background-color: #ffffff\">for image search?\\\"}\"</span>                                                                                          <span style=\"color: #000080; text-decoration-color: #000080\">│</span>\n",
              "<span style=\"color: #000080; text-decoration-color: #000080\">│</span>                                                                                                                 <span style=\"color: #000080; text-decoration-color: #000080\">│</span>\n",
              "<span style=\"color: #000080; text-decoration-color: #000080\">╰─────────────────────────────────────────────────────────────────────────────────────────────────────────────────╯</span>\n",
              "</pre>\n"
            ],
            "text/plain": [
              "\u001b[34m╭─\u001b[0m\u001b[34m─────────────────────────────────────────────────\u001b[0m\u001b[34m Tool Input \u001b[0m\u001b[34m──────────────────────────────────────────────────\u001b[0m\u001b[34m─╮\u001b[0m\n",
              "\u001b[34m│\u001b[0m                                                                                                                 \u001b[34m│\u001b[0m\n",
              "\u001b[34m│\u001b[0m  \u001b[38;2;230;219;116;49m\"{\\\"image_url\\\": \\\"slides_output/slide_013.png\\\", \\\"question\\\": \\\"How does ColPali work and why is it used \u001b[0m    \u001b[34m│\u001b[0m\n",
              "\u001b[34m│\u001b[0m  \u001b[38;2;230;219;116;49mfor image search?\\\"}\"\u001b[0m                                                                                          \u001b[34m│\u001b[0m\n",
              "\u001b[34m│\u001b[0m                                                                                                                 \u001b[34m│\u001b[0m\n",
              "\u001b[34m╰─────────────────────────────────────────────────────────────────────────────────────────────────────────────────╯\u001b[0m\n"
            ]
          },
          "metadata": {},
          "output_type": "display_data"
        },
        {
          "data": {
            "text/html": [
              "<pre style=\"white-space:pre;overflow-x:auto;line-height:normal;font-family:Menlo,'DejaVu Sans Mono',consolas,'Courier New',monospace\"><span style=\"color: #008000; text-decoration-color: #008000\">╭────────────────────────────────────────────────── Tool Output ──────────────────────────────────────────────────╮</span>\n",
              "<span style=\"color: #008000; text-decoration-color: #008000\">│</span>                                                                                                                 <span style=\"color: #008000; text-decoration-color: #008000\">│</span>\n",
              "<span style=\"color: #008000; text-decoration-color: #008000\">│</span>  <span style=\"color: #00ff00; text-decoration-color: #00ff00\">slides_output/slide_013.png</span>                                                                                    <span style=\"color: #008000; text-decoration-color: #008000\">│</span>\n",
              "<span style=\"color: #008000; text-decoration-color: #008000\">│</span>                                                                                                                 <span style=\"color: #008000; text-decoration-color: #008000\">│</span>\n",
              "<span style=\"color: #008000; text-decoration-color: #008000\">╰─────────────────────────────────────────────────────────────────────────────────────────────────────────────────╯</span>\n",
              "</pre>\n"
            ],
            "text/plain": [
              "\u001b[32m╭─\u001b[0m\u001b[32m─────────────────────────────────────────────────\u001b[0m\u001b[32m Tool Output \u001b[0m\u001b[32m─────────────────────────────────────────────────\u001b[0m\u001b[32m─╮\u001b[0m\n",
              "\u001b[32m│\u001b[0m                                                                                                                 \u001b[32m│\u001b[0m\n",
              "\u001b[32m│\u001b[0m  \u001b[92mslides_output/slide_013.png\u001b[0m                                                                                    \u001b[32m│\u001b[0m\n",
              "\u001b[32m│\u001b[0m                                                                                                                 \u001b[32m│\u001b[0m\n",
              "\u001b[32m╰─────────────────────────────────────────────────────────────────────────────────────────────────────────────────╯\u001b[0m\n"
            ]
          },
          "metadata": {},
          "output_type": "display_data"
        },
        {
          "data": {
            "text/html": [
              "<pre style=\"white-space:pre;overflow-x:auto;line-height:normal;font-family:Menlo,'DejaVu Sans Mono',consolas,'Courier New',monospace\">\n",
              "</pre>\n"
            ],
            "text/plain": [
              "\n"
            ]
          },
          "metadata": {},
          "output_type": "display_data"
        },
        {
          "data": {
            "text/html": [
              "<pre style=\"white-space:pre;overflow-x:auto;line-height:normal;font-family:Menlo,'DejaVu Sans Mono',consolas,'Courier New',monospace\"></pre>\n"
            ],
            "text/plain": []
          },
          "metadata": {},
          "output_type": "display_data"
        },
        {
          "data": {
            "text/html": [
              "<pre style=\"white-space:pre;overflow-x:auto;line-height:normal;font-family:Menlo,'DejaVu Sans Mono',consolas,'Courier New',monospace\"><span style=\"color: #008000; text-decoration-color: #008000\">╭───────────────────────────────────────────── ✅ Agent Final Answer ─────────────────────────────────────────────╮</span>\n",
              "<span style=\"color: #008000; text-decoration-color: #008000\">│</span>                                                                                                                 <span style=\"color: #008000; text-decoration-color: #008000\">│</span>\n",
              "<span style=\"color: #008000; text-decoration-color: #008000\">│</span>  <span style=\"color: #c0c0c0; text-decoration-color: #c0c0c0\">Agent: </span><span style=\"color: #00ff00; text-decoration-color: #00ff00; font-weight: bold\">Intelligent Search Agent</span>                                                                                <span style=\"color: #008000; text-decoration-color: #008000\">│</span>\n",
              "<span style=\"color: #008000; text-decoration-color: #008000\">│</span>                                                                                                                 <span style=\"color: #008000; text-decoration-color: #008000\">│</span>\n",
              "<span style=\"color: #008000; text-decoration-color: #008000\">│</span>  <span style=\"color: #c0c0c0; text-decoration-color: #c0c0c0\">Final Answer:</span>                                                                                                  <span style=\"color: #008000; text-decoration-color: #008000\">│</span>\n",
              "<span style=\"color: #008000; text-decoration-color: #008000\">│</span>  <span style=\"color: #00ff00; text-decoration-color: #00ff00\">ColPali is a multi-vector search method that significantly improves image search accuracy and relevance by </span>    <span style=\"color: #008000; text-decoration-color: #008000\">│</span>\n",
              "<span style=\"color: #008000; text-decoration-color: #008000\">│</span>  <span style=\"color: #00ff00; text-decoration-color: #00ff00\">leveraging multiple feature representations in parallel, rather than relying on a single embedding or </span>         <span style=\"color: #008000; text-decoration-color: #008000\">│</span>\n",
              "<span style=\"color: #008000; text-decoration-color: #008000\">│</span>  <span style=\"color: #00ff00; text-decoration-color: #00ff00\">caption. Here’s how it works and why it’s valuable for image search:</span>                                           <span style=\"color: #008000; text-decoration-color: #008000\">│</span>\n",
              "<span style=\"color: #008000; text-decoration-color: #008000\">│</span>                                                                                                                 <span style=\"color: #008000; text-decoration-color: #008000\">│</span>\n",
              "<span style=\"color: #008000; text-decoration-color: #008000\">│</span>  <span style=\"color: #00ff00; text-decoration-color: #00ff00\">- **How ColPali Works:**</span>                                                                                       <span style=\"color: #008000; text-decoration-color: #008000\">│</span>\n",
              "<span style=\"color: #008000; text-decoration-color: #008000\">│</span>  <span style=\"color: #00ff00; text-decoration-color: #00ff00\">  - Instead of representing each image (or document) with a single vector embedding, ColPali creates and </span>      <span style=\"color: #008000; text-decoration-color: #008000\">│</span>\n",
              "<span style=\"color: #008000; text-decoration-color: #008000\">│</span>  <span style=\"color: #00ff00; text-decoration-color: #00ff00\">stores **multiple vectors** for each item, capturing diverse aspects such as captions, visual features, and </span>   <span style=\"color: #008000; text-decoration-color: #008000\">│</span>\n",
              "<span style=\"color: #008000; text-decoration-color: #008000\">│</span>  <span style=\"color: #00ff00; text-decoration-color: #00ff00\">semantic chunks (Slide 17, Slide 26).</span>                                                                          <span style=\"color: #008000; text-decoration-color: #008000\">│</span>\n",
              "<span style=\"color: #008000; text-decoration-color: #008000\">│</span>  <span style=\"color: #00ff00; text-decoration-color: #00ff00\">  - During indexing, ColPali processes various data types (e.g., text, diagrams, metadata) through feature </span>    <span style=\"color: #008000; text-decoration-color: #008000\">│</span>\n",
              "<span style=\"color: #008000; text-decoration-color: #008000\">│</span>  <span style=\"color: #00ff00; text-decoration-color: #00ff00\">extraction agents to generate these distinct embeddings, which are all stored and associated with the </span>         <span style=\"color: #008000; text-decoration-color: #008000\">│</span>\n",
              "<span style=\"color: #008000; text-decoration-color: #008000\">│</span>  <span style=\"color: #00ff00; text-decoration-color: #00ff00\">document in the search system (Slide 13).</span>                                                                      <span style=\"color: #008000; text-decoration-color: #008000\">│</span>\n",
              "<span style=\"color: #008000; text-decoration-color: #008000\">│</span>  <span style=\"color: #00ff00; text-decoration-color: #00ff00\">  - At query time, ColPali compares the input with all of the stored vectors for each image/document, vastly </span>  <span style=\"color: #008000; text-decoration-color: #008000\">│</span>\n",
              "<span style=\"color: #008000; text-decoration-color: #008000\">│</span>  <span style=\"color: #00ff00; text-decoration-color: #00ff00\">increasing the chances that relevant information is retrieved even if the query is phrased differently or </span>     <span style=\"color: #008000; text-decoration-color: #008000\">│</span>\n",
              "<span style=\"color: #008000; text-decoration-color: #008000\">│</span>  <span style=\"color: #00ff00; text-decoration-color: #00ff00\">focuses on a different aspect than the “main” caption (Slide 17).</span>                                              <span style=\"color: #008000; text-decoration-color: #008000\">│</span>\n",
              "<span style=\"color: #008000; text-decoration-color: #008000\">│</span>                                                                                                                 <span style=\"color: #008000; text-decoration-color: #008000\">│</span>\n",
              "<span style=\"color: #008000; text-decoration-color: #008000\">│</span>  <span style=\"color: #00ff00; text-decoration-color: #00ff00\">- **Why Use ColPali for Image Search?**</span>                                                                        <span style=\"color: #008000; text-decoration-color: #008000\">│</span>\n",
              "<span style=\"color: #008000; text-decoration-color: #008000\">│</span>  <span style=\"color: #00ff00; text-decoration-color: #00ff00\">  - **Enhanced Recall &amp; Relevance:** By aggregating multiple semantic perspectives for each image, ColPali </span>    <span style=\"color: #008000; text-decoration-color: #008000\">│</span>\n",
              "<span style=\"color: #008000; text-decoration-color: #008000\">│</span>  <span style=\"color: #00ff00; text-decoration-color: #00ff00\">better captures the richness and variability of visual information. This is especially valuable when user </span>     <span style=\"color: #008000; text-decoration-color: #008000\">│</span>\n",
              "<span style=\"color: #008000; text-decoration-color: #008000\">│</span>  <span style=\"color: #00ff00; text-decoration-color: #00ff00\">queries are ambiguous or when images are complex (Slide 26).</span>                                                   <span style=\"color: #008000; text-decoration-color: #008000\">│</span>\n",
              "<span style=\"color: #008000; text-decoration-color: #008000\">│</span>  <span style=\"color: #00ff00; text-decoration-color: #00ff00\">  - **Robust to Query Variations:** If the user’s search term matches even one of the alternative vectors </span>     <span style=\"color: #008000; text-decoration-color: #008000\">│</span>\n",
              "<span style=\"color: #008000; text-decoration-color: #008000\">│</span>  <span style=\"color: #00ff00; text-decoration-color: #00ff00\">(e.g., a specific caption or feature), the image will be returned, making the system robust to paraphrasing </span>   <span style=\"color: #008000; text-decoration-color: #008000\">│</span>\n",
              "<span style=\"color: #008000; text-decoration-color: #008000\">│</span>  <span style=\"color: #00ff00; text-decoration-color: #00ff00\">and varied descriptions (Slide 17).</span>                                                                            <span style=\"color: #008000; text-decoration-color: #008000\">│</span>\n",
              "<span style=\"color: #008000; text-decoration-color: #008000\">│</span>  <span style=\"color: #00ff00; text-decoration-color: #00ff00\">  - **Improved Feature Extraction:** ColPali leverages advanced feature extraction and enrichment steps at </span>    <span style=\"color: #008000; text-decoration-color: #008000\">│</span>\n",
              "<span style=\"color: #008000; text-decoration-color: #008000\">│</span>  <span style=\"color: #00ff00; text-decoration-color: #00ff00\">ingestion, so both text (captions, descriptions) and visual data (features, diagrams) contribute to the </span>       <span style=\"color: #008000; text-decoration-color: #008000\">│</span>\n",
              "<span style=\"color: #008000; text-decoration-color: #008000\">│</span>  <span style=\"color: #00ff00; text-decoration-color: #00ff00\">searchable representation (Slide 13).</span>                                                                          <span style=\"color: #008000; text-decoration-color: #008000\">│</span>\n",
              "<span style=\"color: #008000; text-decoration-color: #008000\">│</span>  <span style=\"color: #00ff00; text-decoration-color: #00ff00\">  - **Synergy with Modern Search:** By integrating both vector search and traditional (BM25) methods, ColPali</span>  <span style=\"color: #008000; text-decoration-color: #008000\">│</span>\n",
              "<span style=\"color: #008000; text-decoration-color: #008000\">│</span>  <span style=\"color: #00ff00; text-decoration-color: #00ff00\">ensures that both semantic and lexical matches are considered, further enhancing search accuracy (Slide 26).</span>   <span style=\"color: #008000; text-decoration-color: #008000\">│</span>\n",
              "<span style=\"color: #008000; text-decoration-color: #008000\">│</span>                                                                                                                 <span style=\"color: #008000; text-decoration-color: #008000\">│</span>\n",
              "<span style=\"color: #008000; text-decoration-color: #008000\">│</span>  <span style=\"color: #00ff00; text-decoration-color: #00ff00\">**References:** Slides 13, 17, 26</span>                                                                              <span style=\"color: #008000; text-decoration-color: #008000\">│</span>\n",
              "<span style=\"color: #008000; text-decoration-color: #008000\">│</span>                                                                                                                 <span style=\"color: #008000; text-decoration-color: #008000\">│</span>\n",
              "<span style=\"color: #008000; text-decoration-color: #008000\">│</span>  <span style=\"color: #00ff00; text-decoration-color: #00ff00\">- As shown in Slide 13, ColPali's ingestion process combines chunking, semantic captioning, and enrichment to</span>  <span style=\"color: #008000; text-decoration-color: #008000\">│</span>\n",
              "<span style=\"color: #008000; text-decoration-color: #008000\">│</span>  <span style=\"color: #00ff00; text-decoration-color: #00ff00\">produce a multi-faceted index.</span>                                                                                 <span style=\"color: #008000; text-decoration-color: #008000\">│</span>\n",
              "<span style=\"color: #008000; text-decoration-color: #008000\">│</span>  <span style=\"color: #00ff00; text-decoration-color: #00ff00\">- Slide 17 visually depicts the distinction between single-vector and multi-vector (ColPali) strategies, </span>      <span style=\"color: #008000; text-decoration-color: #008000\">│</span>\n",
              "<span style=\"color: #008000; text-decoration-color: #008000\">│</span>  <span style=\"color: #00ff00; text-decoration-color: #00ff00\">highlighting ColPali’s multi-vector approach and its effect on retrieval.</span>                                      <span style=\"color: #008000; text-decoration-color: #008000\">│</span>\n",
              "<span style=\"color: #008000; text-decoration-color: #008000\">│</span>  <span style=\"color: #00ff00; text-decoration-color: #00ff00\">- Slide 26 further demonstrates ColPali’s query processing advantage, showing how multi-vector storage </span>        <span style=\"color: #008000; text-decoration-color: #008000\">│</span>\n",
              "<span style=\"color: #008000; text-decoration-color: #008000\">│</span>  <span style=\"color: #00ff00; text-decoration-color: #00ff00\">enables more comprehensive feature matching.</span>                                                                   <span style=\"color: #008000; text-decoration-color: #008000\">│</span>\n",
              "<span style=\"color: #008000; text-decoration-color: #008000\">│</span>                                                                                                                 <span style=\"color: #008000; text-decoration-color: #008000\">│</span>\n",
              "<span style=\"color: #008000; text-decoration-color: #008000\">│</span>  <span style=\"color: #00ff00; text-decoration-color: #00ff00\">In summary, ColPali’s multi-vector methodology provides a more nuanced and effective search for images by </span>     <span style=\"color: #008000; text-decoration-color: #008000\">│</span>\n",
              "<span style=\"color: #008000; text-decoration-color: #008000\">│</span>  <span style=\"color: #00ff00; text-decoration-color: #00ff00\">indexing and retrieving data across many dimensions, overcoming the limitations of single-caption or </span>          <span style=\"color: #008000; text-decoration-color: #008000\">│</span>\n",
              "<span style=\"color: #008000; text-decoration-color: #008000\">│</span>  <span style=\"color: #00ff00; text-decoration-color: #00ff00\">single-vector systems for richer, more relevant image retrieval.</span>                                               <span style=\"color: #008000; text-decoration-color: #008000\">│</span>\n",
              "<span style=\"color: #008000; text-decoration-color: #008000\">│</span>                                                                                                                 <span style=\"color: #008000; text-decoration-color: #008000\">│</span>\n",
              "<span style=\"color: #008000; text-decoration-color: #008000\">╰─────────────────────────────────────────────────────────────────────────────────────────────────────────────────╯</span>\n",
              "</pre>\n"
            ],
            "text/plain": [
              "\u001b[32m╭─\u001b[0m\u001b[32m────────────────────────────────────────────\u001b[0m\u001b[32m ✅ Agent Final Answer \u001b[0m\u001b[32m────────────────────────────────────────────\u001b[0m\u001b[32m─╮\u001b[0m\n",
              "\u001b[32m│\u001b[0m                                                                                                                 \u001b[32m│\u001b[0m\n",
              "\u001b[32m│\u001b[0m  \u001b[37mAgent: \u001b[0m\u001b[1;92mIntelligent Search Agent\u001b[0m                                                                                \u001b[32m│\u001b[0m\n",
              "\u001b[32m│\u001b[0m                                                                                                                 \u001b[32m│\u001b[0m\n",
              "\u001b[32m│\u001b[0m  \u001b[37mFinal Answer:\u001b[0m                                                                                                  \u001b[32m│\u001b[0m\n",
              "\u001b[32m│\u001b[0m  \u001b[92mColPali is a multi-vector search method that significantly improves image search accuracy and relevance by \u001b[0m    \u001b[32m│\u001b[0m\n",
              "\u001b[32m│\u001b[0m  \u001b[92mleveraging multiple feature representations in parallel, rather than relying on a single embedding or \u001b[0m         \u001b[32m│\u001b[0m\n",
              "\u001b[32m│\u001b[0m  \u001b[92mcaption. Here’s how it works and why it’s valuable for image search:\u001b[0m                                           \u001b[32m│\u001b[0m\n",
              "\u001b[32m│\u001b[0m                                                                                                                 \u001b[32m│\u001b[0m\n",
              "\u001b[32m│\u001b[0m  \u001b[92m- **How ColPali Works:**\u001b[0m                                                                                       \u001b[32m│\u001b[0m\n",
              "\u001b[32m│\u001b[0m  \u001b[92m  - Instead of representing each image (or document) with a single vector embedding, ColPali creates and \u001b[0m      \u001b[32m│\u001b[0m\n",
              "\u001b[32m│\u001b[0m  \u001b[92mstores **multiple vectors** for each item, capturing diverse aspects such as captions, visual features, and \u001b[0m   \u001b[32m│\u001b[0m\n",
              "\u001b[32m│\u001b[0m  \u001b[92msemantic chunks (Slide 17, Slide 26).\u001b[0m                                                                          \u001b[32m│\u001b[0m\n",
              "\u001b[32m│\u001b[0m  \u001b[92m  - During indexing, ColPali processes various data types (e.g., text, diagrams, metadata) through feature \u001b[0m    \u001b[32m│\u001b[0m\n",
              "\u001b[32m│\u001b[0m  \u001b[92mextraction agents to generate these distinct embeddings, which are all stored and associated with the \u001b[0m         \u001b[32m│\u001b[0m\n",
              "\u001b[32m│\u001b[0m  \u001b[92mdocument in the search system (Slide 13).\u001b[0m                                                                      \u001b[32m│\u001b[0m\n",
              "\u001b[32m│\u001b[0m  \u001b[92m  - At query time, ColPali compares the input with all of the stored vectors for each image/document, vastly \u001b[0m  \u001b[32m│\u001b[0m\n",
              "\u001b[32m│\u001b[0m  \u001b[92mincreasing the chances that relevant information is retrieved even if the query is phrased differently or \u001b[0m     \u001b[32m│\u001b[0m\n",
              "\u001b[32m│\u001b[0m  \u001b[92mfocuses on a different aspect than the “main” caption (Slide 17).\u001b[0m                                              \u001b[32m│\u001b[0m\n",
              "\u001b[32m│\u001b[0m                                                                                                                 \u001b[32m│\u001b[0m\n",
              "\u001b[32m│\u001b[0m  \u001b[92m- **Why Use ColPali for Image Search?**\u001b[0m                                                                        \u001b[32m│\u001b[0m\n",
              "\u001b[32m│\u001b[0m  \u001b[92m  - **Enhanced Recall & Relevance:** By aggregating multiple semantic perspectives for each image, ColPali \u001b[0m    \u001b[32m│\u001b[0m\n",
              "\u001b[32m│\u001b[0m  \u001b[92mbetter captures the richness and variability of visual information. This is especially valuable when user \u001b[0m     \u001b[32m│\u001b[0m\n",
              "\u001b[32m│\u001b[0m  \u001b[92mqueries are ambiguous or when images are complex (Slide 26).\u001b[0m                                                   \u001b[32m│\u001b[0m\n",
              "\u001b[32m│\u001b[0m  \u001b[92m  - **Robust to Query Variations:** If the user’s search term matches even one of the alternative vectors \u001b[0m     \u001b[32m│\u001b[0m\n",
              "\u001b[32m│\u001b[0m  \u001b[92m(e.g., a specific caption or feature), the image will be returned, making the system robust to paraphrasing \u001b[0m   \u001b[32m│\u001b[0m\n",
              "\u001b[32m│\u001b[0m  \u001b[92mand varied descriptions (Slide 17).\u001b[0m                                                                            \u001b[32m│\u001b[0m\n",
              "\u001b[32m│\u001b[0m  \u001b[92m  - **Improved Feature Extraction:** ColPali leverages advanced feature extraction and enrichment steps at \u001b[0m    \u001b[32m│\u001b[0m\n",
              "\u001b[32m│\u001b[0m  \u001b[92mingestion, so both text (captions, descriptions) and visual data (features, diagrams) contribute to the \u001b[0m       \u001b[32m│\u001b[0m\n",
              "\u001b[32m│\u001b[0m  \u001b[92msearchable representation (Slide 13).\u001b[0m                                                                          \u001b[32m│\u001b[0m\n",
              "\u001b[32m│\u001b[0m  \u001b[92m  - **Synergy with Modern Search:** By integrating both vector search and traditional (BM25) methods, ColPali\u001b[0m  \u001b[32m│\u001b[0m\n",
              "\u001b[32m│\u001b[0m  \u001b[92mensures that both semantic and lexical matches are considered, further enhancing search accuracy (Slide 26).\u001b[0m   \u001b[32m│\u001b[0m\n",
              "\u001b[32m│\u001b[0m                                                                                                                 \u001b[32m│\u001b[0m\n",
              "\u001b[32m│\u001b[0m  \u001b[92m**References:** Slides 13, 17, 26\u001b[0m                                                                              \u001b[32m│\u001b[0m\n",
              "\u001b[32m│\u001b[0m                                                                                                                 \u001b[32m│\u001b[0m\n",
              "\u001b[32m│\u001b[0m  \u001b[92m- As shown in Slide 13, ColPali's ingestion process combines chunking, semantic captioning, and enrichment to\u001b[0m  \u001b[32m│\u001b[0m\n",
              "\u001b[32m│\u001b[0m  \u001b[92mproduce a multi-faceted index.\u001b[0m                                                                                 \u001b[32m│\u001b[0m\n",
              "\u001b[32m│\u001b[0m  \u001b[92m- Slide 17 visually depicts the distinction between single-vector and multi-vector (ColPali) strategies, \u001b[0m      \u001b[32m│\u001b[0m\n",
              "\u001b[32m│\u001b[0m  \u001b[92mhighlighting ColPali’s multi-vector approach and its effect on retrieval.\u001b[0m                                      \u001b[32m│\u001b[0m\n",
              "\u001b[32m│\u001b[0m  \u001b[92m- Slide 26 further demonstrates ColPali’s query processing advantage, showing how multi-vector storage \u001b[0m        \u001b[32m│\u001b[0m\n",
              "\u001b[32m│\u001b[0m  \u001b[92menables more comprehensive feature matching.\u001b[0m                                                                   \u001b[32m│\u001b[0m\n",
              "\u001b[32m│\u001b[0m                                                                                                                 \u001b[32m│\u001b[0m\n",
              "\u001b[32m│\u001b[0m  \u001b[92mIn summary, ColPali’s multi-vector methodology provides a more nuanced and effective search for images by \u001b[0m     \u001b[32m│\u001b[0m\n",
              "\u001b[32m│\u001b[0m  \u001b[92mindexing and retrieving data across many dimensions, overcoming the limitations of single-caption or \u001b[0m          \u001b[32m│\u001b[0m\n",
              "\u001b[32m│\u001b[0m  \u001b[92msingle-vector systems for richer, more relevant image retrieval.\u001b[0m                                               \u001b[32m│\u001b[0m\n",
              "\u001b[32m│\u001b[0m                                                                                                                 \u001b[32m│\u001b[0m\n",
              "\u001b[32m╰─────────────────────────────────────────────────────────────────────────────────────────────────────────────────╯\u001b[0m\n"
            ]
          },
          "metadata": {},
          "output_type": "display_data"
        },
        {
          "data": {
            "text/html": [
              "<pre style=\"white-space:pre;overflow-x:auto;line-height:normal;font-family:Menlo,'DejaVu Sans Mono',consolas,'Courier New',monospace\">\n",
              "</pre>\n"
            ],
            "text/plain": [
              "\n"
            ]
          },
          "metadata": {},
          "output_type": "display_data"
        },
        {
          "data": {
            "text/html": [
              "<pre style=\"white-space:pre;overflow-x:auto;line-height:normal;font-family:Menlo,'DejaVu Sans Mono',consolas,'Courier New',monospace\"></pre>\n"
            ],
            "text/plain": []
          },
          "metadata": {},
          "output_type": "display_data"
        },
        {
          "data": {
            "text/html": [
              "<pre style=\"white-space:pre;overflow-x:auto;line-height:normal;font-family:Menlo,'DejaVu Sans Mono',consolas,'Courier New',monospace\"><span style=\"color: #008000; text-decoration-color: #008000\">╭──────────────────────────────────────────────── Task Completion ────────────────────────────────────────────────╮</span>\n",
              "<span style=\"color: #008000; text-decoration-color: #008000\">│</span>                                                                                                                 <span style=\"color: #008000; text-decoration-color: #008000\">│</span>\n",
              "<span style=\"color: #008000; text-decoration-color: #008000\">│</span>  <span style=\"color: #008000; text-decoration-color: #008000; font-weight: bold\">Task Completed</span>                                                                                                 <span style=\"color: #008000; text-decoration-color: #008000\">│</span>\n",
              "<span style=\"color: #008000; text-decoration-color: #008000\">│</span>  <span style=\"color: #c0c0c0; text-decoration-color: #c0c0c0\">Name: </span><span style=\"color: #008000; text-decoration-color: #008000\">22fd8c1d-90dc-4d4b-adc4-6140b951efe4</span>                                                                     <span style=\"color: #008000; text-decoration-color: #008000\">│</span>\n",
              "<span style=\"color: #008000; text-decoration-color: #008000\">│</span>  <span style=\"color: #c0c0c0; text-decoration-color: #c0c0c0\">Agent: </span><span style=\"color: #008000; text-decoration-color: #008000\">Intelligent Search Agent</span>                                                                                <span style=\"color: #008000; text-decoration-color: #008000\">│</span>\n",
              "<span style=\"color: #008000; text-decoration-color: #008000\">│</span>  <span style=\"color: #c0c0c0; text-decoration-color: #c0c0c0\">Tool Args: </span>                                                                                                    <span style=\"color: #008000; text-decoration-color: #008000\">│</span>\n",
              "<span style=\"color: #008000; text-decoration-color: #008000\">│</span>                                                                                                                 <span style=\"color: #008000; text-decoration-color: #008000\">│</span>\n",
              "<span style=\"color: #008000; text-decoration-color: #008000\">│</span>                                                                                                                 <span style=\"color: #008000; text-decoration-color: #008000\">│</span>\n",
              "<span style=\"color: #008000; text-decoration-color: #008000\">╰─────────────────────────────────────────────────────────────────────────────────────────────────────────────────╯</span>\n",
              "</pre>\n"
            ],
            "text/plain": [
              "\u001b[32m╭─\u001b[0m\u001b[32m───────────────────────────────────────────────\u001b[0m\u001b[32m Task Completion \u001b[0m\u001b[32m───────────────────────────────────────────────\u001b[0m\u001b[32m─╮\u001b[0m\n",
              "\u001b[32m│\u001b[0m                                                                                                                 \u001b[32m│\u001b[0m\n",
              "\u001b[32m│\u001b[0m  \u001b[1;32mTask Completed\u001b[0m                                                                                                 \u001b[32m│\u001b[0m\n",
              "\u001b[32m│\u001b[0m  \u001b[37mName: \u001b[0m\u001b[32m22fd8c1d-90dc-4d4b-adc4-6140b951efe4\u001b[0m                                                                     \u001b[32m│\u001b[0m\n",
              "\u001b[32m│\u001b[0m  \u001b[37mAgent: \u001b[0m\u001b[32mIntelligent Search Agent\u001b[0m                                                                                \u001b[32m│\u001b[0m\n",
              "\u001b[32m│\u001b[0m  \u001b[37mTool Args: \u001b[0m                                                                                                    \u001b[32m│\u001b[0m\n",
              "\u001b[32m│\u001b[0m                                                                                                                 \u001b[32m│\u001b[0m\n",
              "\u001b[32m│\u001b[0m                                                                                                                 \u001b[32m│\u001b[0m\n",
              "\u001b[32m╰─────────────────────────────────────────────────────────────────────────────────────────────────────────────────╯\u001b[0m\n"
            ]
          },
          "metadata": {},
          "output_type": "display_data"
        },
        {
          "data": {
            "text/html": [
              "<pre style=\"white-space:pre;overflow-x:auto;line-height:normal;font-family:Menlo,'DejaVu Sans Mono',consolas,'Courier New',monospace\">\n",
              "</pre>\n"
            ],
            "text/plain": [
              "\n"
            ]
          },
          "metadata": {},
          "output_type": "display_data"
        },
        {
          "data": {
            "text/html": [
              "<pre style=\"white-space:pre;overflow-x:auto;line-height:normal;font-family:Menlo,'DejaVu Sans Mono',consolas,'Courier New',monospace\"><span style=\"color: #008000; text-decoration-color: #008000\">╭──────────────────────────────────────────────── Crew Completion ────────────────────────────────────────────────╮</span>\n",
              "<span style=\"color: #008000; text-decoration-color: #008000\">│</span>                                                                                                                 <span style=\"color: #008000; text-decoration-color: #008000\">│</span>\n",
              "<span style=\"color: #008000; text-decoration-color: #008000\">│</span>  <span style=\"color: #008000; text-decoration-color: #008000; font-weight: bold\">Crew Execution Completed</span>                                                                                       <span style=\"color: #008000; text-decoration-color: #008000\">│</span>\n",
              "<span style=\"color: #008000; text-decoration-color: #008000\">│</span>  <span style=\"color: #c0c0c0; text-decoration-color: #c0c0c0\">Name: </span><span style=\"color: #008000; text-decoration-color: #008000\">crew</span>                                                                                                     <span style=\"color: #008000; text-decoration-color: #008000\">│</span>\n",
              "<span style=\"color: #008000; text-decoration-color: #008000\">│</span>  <span style=\"color: #c0c0c0; text-decoration-color: #c0c0c0\">ID: </span><span style=\"color: #008000; text-decoration-color: #008000\">e5724088-6a00-42e6-b11b-df397e1e1b7a</span>                                                                       <span style=\"color: #008000; text-decoration-color: #008000\">│</span>\n",
              "<span style=\"color: #008000; text-decoration-color: #008000\">│</span>  <span style=\"color: #c0c0c0; text-decoration-color: #c0c0c0\">Tool Args: </span>                                                                                                    <span style=\"color: #008000; text-decoration-color: #008000\">│</span>\n",
              "<span style=\"color: #008000; text-decoration-color: #008000\">│</span>  <span style=\"color: #c0c0c0; text-decoration-color: #c0c0c0\">Final Output: ColPali is a multi-vector search method that significantly improves image search accuracy and </span>   <span style=\"color: #008000; text-decoration-color: #008000\">│</span>\n",
              "<span style=\"color: #008000; text-decoration-color: #008000\">│</span>  <span style=\"color: #c0c0c0; text-decoration-color: #c0c0c0\">relevance by leveraging multiple feature representations in parallel, rather than relying on a single </span>         <span style=\"color: #008000; text-decoration-color: #008000\">│</span>\n",
              "<span style=\"color: #008000; text-decoration-color: #008000\">│</span>  <span style=\"color: #c0c0c0; text-decoration-color: #c0c0c0\">embedding or caption. Here’s how it works and why it’s valuable for image search:</span>                              <span style=\"color: #008000; text-decoration-color: #008000\">│</span>\n",
              "<span style=\"color: #008000; text-decoration-color: #008000\">│</span>                                                                                                                 <span style=\"color: #008000; text-decoration-color: #008000\">│</span>\n",
              "<span style=\"color: #008000; text-decoration-color: #008000\">│</span>  <span style=\"color: #c0c0c0; text-decoration-color: #c0c0c0\">- **How ColPali Works:**</span>                                                                                       <span style=\"color: #008000; text-decoration-color: #008000\">│</span>\n",
              "<span style=\"color: #008000; text-decoration-color: #008000\">│</span>  <span style=\"color: #c0c0c0; text-decoration-color: #c0c0c0\">  - Instead of representing each image (or document) with a single vector embedding, ColPali creates and </span>      <span style=\"color: #008000; text-decoration-color: #008000\">│</span>\n",
              "<span style=\"color: #008000; text-decoration-color: #008000\">│</span>  <span style=\"color: #c0c0c0; text-decoration-color: #c0c0c0\">stores **multiple vectors** for each item, capturing diverse aspects such as captions, visual features, and </span>   <span style=\"color: #008000; text-decoration-color: #008000\">│</span>\n",
              "<span style=\"color: #008000; text-decoration-color: #008000\">│</span>  <span style=\"color: #c0c0c0; text-decoration-color: #c0c0c0\">semantic chunks (Slide 17, Slide 26).</span>                                                                          <span style=\"color: #008000; text-decoration-color: #008000\">│</span>\n",
              "<span style=\"color: #008000; text-decoration-color: #008000\">│</span>  <span style=\"color: #c0c0c0; text-decoration-color: #c0c0c0\">  - During indexing, ColPali processes various data types (e.g., text, diagrams, metadata) through feature </span>    <span style=\"color: #008000; text-decoration-color: #008000\">│</span>\n",
              "<span style=\"color: #008000; text-decoration-color: #008000\">│</span>  <span style=\"color: #c0c0c0; text-decoration-color: #c0c0c0\">extraction agents to generate these distinct embeddings, which are all stored and associated with the </span>         <span style=\"color: #008000; text-decoration-color: #008000\">│</span>\n",
              "<span style=\"color: #008000; text-decoration-color: #008000\">│</span>  <span style=\"color: #c0c0c0; text-decoration-color: #c0c0c0\">document in the search system (Slide 13).</span>                                                                      <span style=\"color: #008000; text-decoration-color: #008000\">│</span>\n",
              "<span style=\"color: #008000; text-decoration-color: #008000\">│</span>  <span style=\"color: #c0c0c0; text-decoration-color: #c0c0c0\">  - At query time, ColPali compares the input with all of the stored vectors for each image/document, vastly </span>  <span style=\"color: #008000; text-decoration-color: #008000\">│</span>\n",
              "<span style=\"color: #008000; text-decoration-color: #008000\">│</span>  <span style=\"color: #c0c0c0; text-decoration-color: #c0c0c0\">increasing the chances that relevant information is retrieved even if the query is phrased differently or </span>     <span style=\"color: #008000; text-decoration-color: #008000\">│</span>\n",
              "<span style=\"color: #008000; text-decoration-color: #008000\">│</span>  <span style=\"color: #c0c0c0; text-decoration-color: #c0c0c0\">focuses on a different aspect than the “main” caption (Slide 17).</span>                                              <span style=\"color: #008000; text-decoration-color: #008000\">│</span>\n",
              "<span style=\"color: #008000; text-decoration-color: #008000\">│</span>                                                                                                                 <span style=\"color: #008000; text-decoration-color: #008000\">│</span>\n",
              "<span style=\"color: #008000; text-decoration-color: #008000\">│</span>  <span style=\"color: #c0c0c0; text-decoration-color: #c0c0c0\">- **Why Use ColPali for Image Search?**</span>                                                                        <span style=\"color: #008000; text-decoration-color: #008000\">│</span>\n",
              "<span style=\"color: #008000; text-decoration-color: #008000\">│</span>  <span style=\"color: #c0c0c0; text-decoration-color: #c0c0c0\">  - **Enhanced Recall &amp; Relevance:** By aggregating multiple semantic perspectives for each image, ColPali </span>    <span style=\"color: #008000; text-decoration-color: #008000\">│</span>\n",
              "<span style=\"color: #008000; text-decoration-color: #008000\">│</span>  <span style=\"color: #c0c0c0; text-decoration-color: #c0c0c0\">better captures the richness and variability of visual information. This is especially valuable when user </span>     <span style=\"color: #008000; text-decoration-color: #008000\">│</span>\n",
              "<span style=\"color: #008000; text-decoration-color: #008000\">│</span>  <span style=\"color: #c0c0c0; text-decoration-color: #c0c0c0\">queries are ambiguous or when images are complex (Slide 26).</span>                                                   <span style=\"color: #008000; text-decoration-color: #008000\">│</span>\n",
              "<span style=\"color: #008000; text-decoration-color: #008000\">│</span>  <span style=\"color: #c0c0c0; text-decoration-color: #c0c0c0\">  - **Robust to Query Variations:** If the user’s search term matches even one of the alternative vectors </span>     <span style=\"color: #008000; text-decoration-color: #008000\">│</span>\n",
              "<span style=\"color: #008000; text-decoration-color: #008000\">│</span>  <span style=\"color: #c0c0c0; text-decoration-color: #c0c0c0\">(e.g., a specific caption or feature), the image will be returned, making the system robust to paraphrasing </span>   <span style=\"color: #008000; text-decoration-color: #008000\">│</span>\n",
              "<span style=\"color: #008000; text-decoration-color: #008000\">│</span>  <span style=\"color: #c0c0c0; text-decoration-color: #c0c0c0\">and varied descriptions (Slide 17).</span>                                                                            <span style=\"color: #008000; text-decoration-color: #008000\">│</span>\n",
              "<span style=\"color: #008000; text-decoration-color: #008000\">│</span>  <span style=\"color: #c0c0c0; text-decoration-color: #c0c0c0\">  - **Improved Feature Extraction:** ColPali leverages advanced feature extraction and enrichment steps at </span>    <span style=\"color: #008000; text-decoration-color: #008000\">│</span>\n",
              "<span style=\"color: #008000; text-decoration-color: #008000\">│</span>  <span style=\"color: #c0c0c0; text-decoration-color: #c0c0c0\">ingestion, so both text (captions, descriptions) and visual data (features, diagrams) contribute to the </span>       <span style=\"color: #008000; text-decoration-color: #008000\">│</span>\n",
              "<span style=\"color: #008000; text-decoration-color: #008000\">│</span>  <span style=\"color: #c0c0c0; text-decoration-color: #c0c0c0\">searchable representation (Slide 13).</span>                                                                          <span style=\"color: #008000; text-decoration-color: #008000\">│</span>\n",
              "<span style=\"color: #008000; text-decoration-color: #008000\">│</span>  <span style=\"color: #c0c0c0; text-decoration-color: #c0c0c0\">  - **Synergy with Modern Search:** By integrating both vector search and traditional (BM25) methods, ColPali</span>  <span style=\"color: #008000; text-decoration-color: #008000\">│</span>\n",
              "<span style=\"color: #008000; text-decoration-color: #008000\">│</span>  <span style=\"color: #c0c0c0; text-decoration-color: #c0c0c0\">ensures that both semantic and lexical matches are considered, further enhancing search accuracy (Slide 26).</span>   <span style=\"color: #008000; text-decoration-color: #008000\">│</span>\n",
              "<span style=\"color: #008000; text-decoration-color: #008000\">│</span>                                                                                                                 <span style=\"color: #008000; text-decoration-color: #008000\">│</span>\n",
              "<span style=\"color: #008000; text-decoration-color: #008000\">│</span>  <span style=\"color: #c0c0c0; text-decoration-color: #c0c0c0\">**References:** Slides 13, 17, 26</span>                                                                              <span style=\"color: #008000; text-decoration-color: #008000\">│</span>\n",
              "<span style=\"color: #008000; text-decoration-color: #008000\">│</span>                                                                                                                 <span style=\"color: #008000; text-decoration-color: #008000\">│</span>\n",
              "<span style=\"color: #008000; text-decoration-color: #008000\">│</span>  <span style=\"color: #c0c0c0; text-decoration-color: #c0c0c0\">- As shown in Slide 13, ColPali's ingestion process combines chunking, semantic captioning, and enrichment to</span>  <span style=\"color: #008000; text-decoration-color: #008000\">│</span>\n",
              "<span style=\"color: #008000; text-decoration-color: #008000\">│</span>  <span style=\"color: #c0c0c0; text-decoration-color: #c0c0c0\">produce a multi-faceted index.</span>                                                                                 <span style=\"color: #008000; text-decoration-color: #008000\">│</span>\n",
              "<span style=\"color: #008000; text-decoration-color: #008000\">│</span>  <span style=\"color: #c0c0c0; text-decoration-color: #c0c0c0\">- Slide 17 visually depicts the distinction between single-vector and multi-vector (ColPali) strategies, </span>      <span style=\"color: #008000; text-decoration-color: #008000\">│</span>\n",
              "<span style=\"color: #008000; text-decoration-color: #008000\">│</span>  <span style=\"color: #c0c0c0; text-decoration-color: #c0c0c0\">highlighting ColPali’s multi-vector approach and its effect on retrieval.</span>                                      <span style=\"color: #008000; text-decoration-color: #008000\">│</span>\n",
              "<span style=\"color: #008000; text-decoration-color: #008000\">│</span>  <span style=\"color: #c0c0c0; text-decoration-color: #c0c0c0\">- Slide 26 further demonstrates ColPali’s query processing advantage, showing how multi-vector storage </span>        <span style=\"color: #008000; text-decoration-color: #008000\">│</span>\n",
              "<span style=\"color: #008000; text-decoration-color: #008000\">│</span>  <span style=\"color: #c0c0c0; text-decoration-color: #c0c0c0\">enables more comprehensive feature matching.</span>                                                                   <span style=\"color: #008000; text-decoration-color: #008000\">│</span>\n",
              "<span style=\"color: #008000; text-decoration-color: #008000\">│</span>                                                                                                                 <span style=\"color: #008000; text-decoration-color: #008000\">│</span>\n",
              "<span style=\"color: #008000; text-decoration-color: #008000\">│</span>  <span style=\"color: #c0c0c0; text-decoration-color: #c0c0c0\">In summary, ColPali’s multi-vector methodology provides a more nuanced and effective search for images by </span>     <span style=\"color: #008000; text-decoration-color: #008000\">│</span>\n",
              "<span style=\"color: #008000; text-decoration-color: #008000\">│</span>  <span style=\"color: #c0c0c0; text-decoration-color: #c0c0c0\">indexing and retrieving data across many dimensions, overcoming the limitations of single-caption or </span>          <span style=\"color: #008000; text-decoration-color: #008000\">│</span>\n",
              "<span style=\"color: #008000; text-decoration-color: #008000\">│</span>  <span style=\"color: #c0c0c0; text-decoration-color: #c0c0c0\">single-vector systems for richer, more relevant image retrieval.</span>                                               <span style=\"color: #008000; text-decoration-color: #008000\">│</span>\n",
              "<span style=\"color: #008000; text-decoration-color: #008000\">│</span>                                                                                                                 <span style=\"color: #008000; text-decoration-color: #008000\">│</span>\n",
              "<span style=\"color: #008000; text-decoration-color: #008000\">│</span>                                                                                                                 <span style=\"color: #008000; text-decoration-color: #008000\">│</span>\n",
              "<span style=\"color: #008000; text-decoration-color: #008000\">╰─────────────────────────────────────────────────────────────────────────────────────────────────────────────────╯</span>\n",
              "</pre>\n"
            ],
            "text/plain": [
              "\u001b[32m╭─\u001b[0m\u001b[32m───────────────────────────────────────────────\u001b[0m\u001b[32m Crew Completion \u001b[0m\u001b[32m───────────────────────────────────────────────\u001b[0m\u001b[32m─╮\u001b[0m\n",
              "\u001b[32m│\u001b[0m                                                                                                                 \u001b[32m│\u001b[0m\n",
              "\u001b[32m│\u001b[0m  \u001b[1;32mCrew Execution Completed\u001b[0m                                                                                       \u001b[32m│\u001b[0m\n",
              "\u001b[32m│\u001b[0m  \u001b[37mName: \u001b[0m\u001b[32mcrew\u001b[0m                                                                                                     \u001b[32m│\u001b[0m\n",
              "\u001b[32m│\u001b[0m  \u001b[37mID: \u001b[0m\u001b[32me5724088-6a00-42e6-b11b-df397e1e1b7a\u001b[0m                                                                       \u001b[32m│\u001b[0m\n",
              "\u001b[32m│\u001b[0m  \u001b[37mTool Args: \u001b[0m                                                                                                    \u001b[32m│\u001b[0m\n",
              "\u001b[32m│\u001b[0m  \u001b[37mFinal Output: ColPali is a multi-vector search method that significantly improves image search accuracy and \u001b[0m   \u001b[32m│\u001b[0m\n",
              "\u001b[32m│\u001b[0m  \u001b[37mrelevance by leveraging multiple feature representations in parallel, rather than relying on a single \u001b[0m         \u001b[32m│\u001b[0m\n",
              "\u001b[32m│\u001b[0m  \u001b[37membedding or caption. Here’s how it works and why it’s valuable for image search:\u001b[0m                              \u001b[32m│\u001b[0m\n",
              "\u001b[32m│\u001b[0m                                                                                                                 \u001b[32m│\u001b[0m\n",
              "\u001b[32m│\u001b[0m  \u001b[37m- **How ColPali Works:**\u001b[0m                                                                                       \u001b[32m│\u001b[0m\n",
              "\u001b[32m│\u001b[0m  \u001b[37m  - Instead of representing each image (or document) with a single vector embedding, ColPali creates and \u001b[0m      \u001b[32m│\u001b[0m\n",
              "\u001b[32m│\u001b[0m  \u001b[37mstores **multiple vectors** for each item, capturing diverse aspects such as captions, visual features, and \u001b[0m   \u001b[32m│\u001b[0m\n",
              "\u001b[32m│\u001b[0m  \u001b[37msemantic chunks (Slide 17, Slide 26).\u001b[0m                                                                          \u001b[32m│\u001b[0m\n",
              "\u001b[32m│\u001b[0m  \u001b[37m  - During indexing, ColPali processes various data types (e.g., text, diagrams, metadata) through feature \u001b[0m    \u001b[32m│\u001b[0m\n",
              "\u001b[32m│\u001b[0m  \u001b[37mextraction agents to generate these distinct embeddings, which are all stored and associated with the \u001b[0m         \u001b[32m│\u001b[0m\n",
              "\u001b[32m│\u001b[0m  \u001b[37mdocument in the search system (Slide 13).\u001b[0m                                                                      \u001b[32m│\u001b[0m\n",
              "\u001b[32m│\u001b[0m  \u001b[37m  - At query time, ColPali compares the input with all of the stored vectors for each image/document, vastly \u001b[0m  \u001b[32m│\u001b[0m\n",
              "\u001b[32m│\u001b[0m  \u001b[37mincreasing the chances that relevant information is retrieved even if the query is phrased differently or \u001b[0m     \u001b[32m│\u001b[0m\n",
              "\u001b[32m│\u001b[0m  \u001b[37mfocuses on a different aspect than the “main” caption (Slide 17).\u001b[0m                                              \u001b[32m│\u001b[0m\n",
              "\u001b[32m│\u001b[0m                                                                                                                 \u001b[32m│\u001b[0m\n",
              "\u001b[32m│\u001b[0m  \u001b[37m- **Why Use ColPali for Image Search?**\u001b[0m                                                                        \u001b[32m│\u001b[0m\n",
              "\u001b[32m│\u001b[0m  \u001b[37m  - **Enhanced Recall & Relevance:** By aggregating multiple semantic perspectives for each image, ColPali \u001b[0m    \u001b[32m│\u001b[0m\n",
              "\u001b[32m│\u001b[0m  \u001b[37mbetter captures the richness and variability of visual information. This is especially valuable when user \u001b[0m     \u001b[32m│\u001b[0m\n",
              "\u001b[32m│\u001b[0m  \u001b[37mqueries are ambiguous or when images are complex (Slide 26).\u001b[0m                                                   \u001b[32m│\u001b[0m\n",
              "\u001b[32m│\u001b[0m  \u001b[37m  - **Robust to Query Variations:** If the user’s search term matches even one of the alternative vectors \u001b[0m     \u001b[32m│\u001b[0m\n",
              "\u001b[32m│\u001b[0m  \u001b[37m(e.g., a specific caption or feature), the image will be returned, making the system robust to paraphrasing \u001b[0m   \u001b[32m│\u001b[0m\n",
              "\u001b[32m│\u001b[0m  \u001b[37mand varied descriptions (Slide 17).\u001b[0m                                                                            \u001b[32m│\u001b[0m\n",
              "\u001b[32m│\u001b[0m  \u001b[37m  - **Improved Feature Extraction:** ColPali leverages advanced feature extraction and enrichment steps at \u001b[0m    \u001b[32m│\u001b[0m\n",
              "\u001b[32m│\u001b[0m  \u001b[37mingestion, so both text (captions, descriptions) and visual data (features, diagrams) contribute to the \u001b[0m       \u001b[32m│\u001b[0m\n",
              "\u001b[32m│\u001b[0m  \u001b[37msearchable representation (Slide 13).\u001b[0m                                                                          \u001b[32m│\u001b[0m\n",
              "\u001b[32m│\u001b[0m  \u001b[37m  - **Synergy with Modern Search:** By integrating both vector search and traditional (BM25) methods, ColPali\u001b[0m  \u001b[32m│\u001b[0m\n",
              "\u001b[32m│\u001b[0m  \u001b[37mensures that both semantic and lexical matches are considered, further enhancing search accuracy (Slide 26).\u001b[0m   \u001b[32m│\u001b[0m\n",
              "\u001b[32m│\u001b[0m                                                                                                                 \u001b[32m│\u001b[0m\n",
              "\u001b[32m│\u001b[0m  \u001b[37m**References:** Slides 13, 17, 26\u001b[0m                                                                              \u001b[32m│\u001b[0m\n",
              "\u001b[32m│\u001b[0m                                                                                                                 \u001b[32m│\u001b[0m\n",
              "\u001b[32m│\u001b[0m  \u001b[37m- As shown in Slide 13, ColPali's ingestion process combines chunking, semantic captioning, and enrichment to\u001b[0m  \u001b[32m│\u001b[0m\n",
              "\u001b[32m│\u001b[0m  \u001b[37mproduce a multi-faceted index.\u001b[0m                                                                                 \u001b[32m│\u001b[0m\n",
              "\u001b[32m│\u001b[0m  \u001b[37m- Slide 17 visually depicts the distinction between single-vector and multi-vector (ColPali) strategies, \u001b[0m      \u001b[32m│\u001b[0m\n",
              "\u001b[32m│\u001b[0m  \u001b[37mhighlighting ColPali’s multi-vector approach and its effect on retrieval.\u001b[0m                                      \u001b[32m│\u001b[0m\n",
              "\u001b[32m│\u001b[0m  \u001b[37m- Slide 26 further demonstrates ColPali’s query processing advantage, showing how multi-vector storage \u001b[0m        \u001b[32m│\u001b[0m\n",
              "\u001b[32m│\u001b[0m  \u001b[37menables more comprehensive feature matching.\u001b[0m                                                                   \u001b[32m│\u001b[0m\n",
              "\u001b[32m│\u001b[0m                                                                                                                 \u001b[32m│\u001b[0m\n",
              "\u001b[32m│\u001b[0m  \u001b[37mIn summary, ColPali’s multi-vector methodology provides a more nuanced and effective search for images by \u001b[0m     \u001b[32m│\u001b[0m\n",
              "\u001b[32m│\u001b[0m  \u001b[37mindexing and retrieving data across many dimensions, overcoming the limitations of single-caption or \u001b[0m          \u001b[32m│\u001b[0m\n",
              "\u001b[32m│\u001b[0m  \u001b[37msingle-vector systems for richer, more relevant image retrieval.\u001b[0m                                               \u001b[32m│\u001b[0m\n",
              "\u001b[32m│\u001b[0m                                                                                                                 \u001b[32m│\u001b[0m\n",
              "\u001b[32m│\u001b[0m                                                                                                                 \u001b[32m│\u001b[0m\n",
              "\u001b[32m╰─────────────────────────────────────────────────────────────────────────────────────────────────────────────────╯\u001b[0m\n"
            ]
          },
          "metadata": {},
          "output_type": "display_data"
        },
        {
          "data": {
            "text/html": [
              "<pre style=\"white-space:pre;overflow-x:auto;line-height:normal;font-family:Menlo,'DejaVu Sans Mono',consolas,'Courier New',monospace\">\n",
              "</pre>\n"
            ],
            "text/plain": [
              "\n"
            ]
          },
          "metadata": {},
          "output_type": "display_data"
        },
        {
          "name": "stdout",
          "output_type": "stream",
          "text": [
            "\n",
            "====================================================================================================\n",
            "💡 ANSWER:\n",
            "====================================================================================================\n",
            "ColPali is a multi-vector search method that significantly improves image search accuracy and relevance by leveraging multiple feature representations in parallel, rather than relying on a single embedding or caption. Here’s how it works and why it’s valuable for image search:\n",
            "\n",
            "- **How ColPali Works:**\n",
            "  - Instead of representing each image (or document) with a single vector embedding, ColPali creates and stores **multiple vectors** for each item, capturing diverse aspects such as captions, visual features, and semantic chunks (Slide 17, Slide 26).\n",
            "  - During indexing, ColPali processes various data types (e.g., text, diagrams, metadata) through feature extraction agents to generate these distinct embeddings, which are all stored and associated with the document in the search system (Slide 13).\n",
            "  - At query time, ColPali compares the input with all of the stored vectors for each image/document, vastly increasing the chances that relevant information is retrieved even if the query is phrased differently or focuses on a different aspect than the “main” caption (Slide 17).\n",
            "\n",
            "- **Why Use ColPali for Image Search?**\n",
            "  - **Enhanced Recall & Relevance:** By aggregating multiple semantic perspectives for each image, ColPali better captures the richness and variability of visual information. This is especially valuable when user queries are ambiguous or when images are complex (Slide 26).\n",
            "  - **Robust to Query Variations:** If the user’s search term matches even one of the alternative vectors (e.g., a specific caption or feature), the image will be returned, making the system robust to paraphrasing and varied descriptions (Slide 17).\n",
            "  - **Improved Feature Extraction:** ColPali leverages advanced feature extraction and enrichment steps at ingestion, so both text (captions, descriptions) and visual data (features, diagrams) contribute to the searchable representation (Slide 13).\n",
            "  - **Synergy with Modern Search:** By integrating both vector search and traditional (BM25) methods, ColPali ensures that both semantic and lexical matches are considered, further enhancing search accuracy (Slide 26).\n",
            "\n",
            "**References:** Slides 13, 17, 26\n",
            "\n",
            "- As shown in Slide 13, ColPali's ingestion process combines chunking, semantic captioning, and enrichment to produce a multi-faceted index.\n",
            "- Slide 17 visually depicts the distinction between single-vector and multi-vector (ColPali) strategies, highlighting ColPali’s multi-vector approach and its effect on retrieval.\n",
            "- Slide 26 further demonstrates ColPali’s query processing advantage, showing how multi-vector storage enables more comprehensive feature matching.\n",
            "\n",
            "In summary, ColPali’s multi-vector methodology provides a more nuanced and effective search for images by indexing and retrieving data across many dimensions, overcoming the limitations of single-caption or single-vector systems for richer, more relevant image retrieval.\n",
            "====================================================================================================\n"
          ]
        }
      ],
      "source": [
        "question1 = \"How does ColPali work and why use it for image search?\"\n",
        "\n",
        "print(\"\\n\" + \"=\"*100)\n",
        "print(f\"❓ QUESTION 1: {question1}\")\n",
        "print(\"=\"*100 + \"\\n\")\n",
        "\n",
        "answer1 = ask_agent(question1)\n",
        "\n",
        "print(\"\\n\" + \"=\"*100)\n",
        "print(\"💡 ANSWER:\")\n",
        "print(\"=\"*100)\n",
        "print(answer1)\n",
        "print(\"=\"*100)\n"
      ]
    },
    {
      "cell_type": "markdown",
      "metadata": {
        "vscode": {
          "languageId": "raw"
        }
      },
      "source": [
        "## 🎉 Summary & Key Takeaways\n",
        "\n",
        "### What We Built\n",
        "\n",
        "This notebook implemented the **Agentic Search Architecture** from the webinar:\n",
        "\n",
        "1. **✅ Elasticsearch Knowledge Base**\n",
        "   - `semantic_text` fields for automatic embeddings\n",
        "   - `dense_vector` for ColPali multi-vector image embeddings\n",
        "   - Metadata for filtering and personalization\n",
        "   - 35 technical slides fully indexed\n",
        "\n",
        "2. **✅ ColPali Integration (Late Interaction)**\n",
        "   - Multi-vector approach with `rank_vectors` field (bit quantization)\n",
        "   - `maxSimDotProduct` for late interaction scoring\n",
        "   - Average vector for quick similarity checks\n",
        "   - Captures diagrams, charts, and visual layouts\n",
        "   - More comprehensive than single-vector captioning\n",
        "\n",
        "3. **✅ Intelligent Search Agent**\n",
        "   - Hybrid Search (BM25 + Vector)\n",
        "   - Search Tool for information retrieval\n",
        "   - Image Analysis Tool for visual understanding\n",
        "   - Automated workflow: Search → Analyze → Synthesize\n",
        "\n",
        "4. **✅ Working Demo**\n",
        "   - Questions answered using actual webinar content\n",
        "   - Combines text and visual information\n",
        "   - Cites specific slides in responses\n",
        "\n",
        "### Resources\n",
        "\n",
        "- **Webinar Slides**: The 35 slides in `vector_webinar.pdf`\n",
        "- **Elastic Blog**: [ColPali Late Interaction at Scale](https://www.elastic.co/search-labs/blog/late-interaction-model-colpali-scale)\n",
        "- **Elastic Docs**: [Semantic Text Field](https://www.elastic.co/guide/en/elasticsearch/reference/current/semantic-text.html)\n",
        "- **ColPali Paper**: Multi-vector visual document retrieval\n",
        "- **CrewAI**: [CrewAI Documentation](https://docs.crewai.com/)\n",
        "\n",
        "---\n",
        "\n",
        "**🎯 You now have a working agentic search system powered by Elastic's vector database!**\n"
      ]
    }
  ],
  "metadata": {
    "kernelspec": {
      "display_name": "Python 3",
      "language": "python",
      "name": "python3"
    },
    "language_info": {
      "codemirror_mode": {
        "name": "ipython",
        "version": 3
      },
      "file_extension": ".py",
      "mimetype": "text/x-python",
      "name": "python",
      "nbconvert_exporter": "python",
      "pygments_lexer": "ipython3",
      "version": "3.11.10"
    }
  },
  "nbformat": 4,
  "nbformat_minor": 2
}
